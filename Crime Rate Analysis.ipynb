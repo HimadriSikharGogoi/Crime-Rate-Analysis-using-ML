{
 "cells": [
  {
   "cell_type": "code",
   "execution_count": 2,
   "metadata": {},
   "outputs": [],
   "source": [
    "import pandas as pd\n",
    "import numpy as np\n",
    "import matplotlib.pyplot as plt"
   ]
  },
  {
   "cell_type": "code",
   "execution_count": 3,
   "metadata": {},
   "outputs": [
    {
     "data": {
      "text/html": [
       "<div>\n",
       "<style scoped>\n",
       "    .dataframe tbody tr th:only-of-type {\n",
       "        vertical-align: middle;\n",
       "    }\n",
       "\n",
       "    .dataframe tbody tr th {\n",
       "        vertical-align: top;\n",
       "    }\n",
       "\n",
       "    .dataframe thead th {\n",
       "        text-align: right;\n",
       "    }\n",
       "</style>\n",
       "<table border=\"1\" class=\"dataframe\">\n",
       "  <thead>\n",
       "    <tr style=\"text-align: right;\">\n",
       "      <th></th>\n",
       "      <th>Area_Name</th>\n",
       "      <th>Year</th>\n",
       "      <th>Group_Name</th>\n",
       "      <th>Sub_Group_Name</th>\n",
       "      <th>Victims_Above_50_Yrs</th>\n",
       "      <th>Victims_Total</th>\n",
       "      <th>Victims_Upto_10_15_Yrs</th>\n",
       "      <th>Victims_Upto_10_Yrs</th>\n",
       "      <th>Victims_Upto_15_18_Yrs</th>\n",
       "      <th>Victims_Upto_18_30_Yrs</th>\n",
       "      <th>Victims_Upto_30_50_Yrs</th>\n",
       "    </tr>\n",
       "  </thead>\n",
       "  <tbody>\n",
       "    <tr>\n",
       "      <th>0</th>\n",
       "      <td>Andaman &amp; Nicobar Islands</td>\n",
       "      <td>2001</td>\n",
       "      <td>Murder - Female Victims</td>\n",
       "      <td>2. Female Victims</td>\n",
       "      <td>NaN</td>\n",
       "      <td>6</td>\n",
       "      <td>NaN</td>\n",
       "      <td>NaN</td>\n",
       "      <td>NaN</td>\n",
       "      <td>4.0</td>\n",
       "      <td>2.0</td>\n",
       "    </tr>\n",
       "    <tr>\n",
       "      <th>1</th>\n",
       "      <td>Andhra Pradesh</td>\n",
       "      <td>2001</td>\n",
       "      <td>Murder - Female Victims</td>\n",
       "      <td>2. Female Victims</td>\n",
       "      <td>67.0</td>\n",
       "      <td>607</td>\n",
       "      <td>15.0</td>\n",
       "      <td>38.0</td>\n",
       "      <td>43.0</td>\n",
       "      <td>269.0</td>\n",
       "      <td>175.0</td>\n",
       "    </tr>\n",
       "    <tr>\n",
       "      <th>2</th>\n",
       "      <td>Arunachal Pradesh</td>\n",
       "      <td>2001</td>\n",
       "      <td>Murder - Female Victims</td>\n",
       "      <td>2. Female Victims</td>\n",
       "      <td>2.0</td>\n",
       "      <td>16</td>\n",
       "      <td>0.0</td>\n",
       "      <td>0.0</td>\n",
       "      <td>0.0</td>\n",
       "      <td>10.0</td>\n",
       "      <td>4.0</td>\n",
       "    </tr>\n",
       "    <tr>\n",
       "      <th>3</th>\n",
       "      <td>Assam</td>\n",
       "      <td>2001</td>\n",
       "      <td>Murder - Female Victims</td>\n",
       "      <td>2. Female Victims</td>\n",
       "      <td>11.0</td>\n",
       "      <td>128</td>\n",
       "      <td>8.0</td>\n",
       "      <td>4.0</td>\n",
       "      <td>23.0</td>\n",
       "      <td>45.0</td>\n",
       "      <td>37.0</td>\n",
       "    </tr>\n",
       "    <tr>\n",
       "      <th>4</th>\n",
       "      <td>Bihar</td>\n",
       "      <td>2001</td>\n",
       "      <td>Murder - Female Victims</td>\n",
       "      <td>2. Female Victims</td>\n",
       "      <td>12.0</td>\n",
       "      <td>366</td>\n",
       "      <td>0.0</td>\n",
       "      <td>0.0</td>\n",
       "      <td>40.0</td>\n",
       "      <td>191.0</td>\n",
       "      <td>123.0</td>\n",
       "    </tr>\n",
       "    <tr>\n",
       "      <th>...</th>\n",
       "      <td>...</td>\n",
       "      <td>...</td>\n",
       "      <td>...</td>\n",
       "      <td>...</td>\n",
       "      <td>...</td>\n",
       "      <td>...</td>\n",
       "      <td>...</td>\n",
       "      <td>...</td>\n",
       "      <td>...</td>\n",
       "      <td>...</td>\n",
       "      <td>...</td>\n",
       "    </tr>\n",
       "    <tr>\n",
       "      <th>1013</th>\n",
       "      <td>Tamil Nadu</td>\n",
       "      <td>2010</td>\n",
       "      <td>Murder - Total Victims</td>\n",
       "      <td>3. Total</td>\n",
       "      <td>327.0</td>\n",
       "      <td>1908</td>\n",
       "      <td>13.0</td>\n",
       "      <td>63.0</td>\n",
       "      <td>16.0</td>\n",
       "      <td>650.0</td>\n",
       "      <td>839.0</td>\n",
       "    </tr>\n",
       "    <tr>\n",
       "      <th>1014</th>\n",
       "      <td>Tripura</td>\n",
       "      <td>2010</td>\n",
       "      <td>Murder - Total Victims</td>\n",
       "      <td>3. Total</td>\n",
       "      <td>24.0</td>\n",
       "      <td>159</td>\n",
       "      <td>2.0</td>\n",
       "      <td>0.0</td>\n",
       "      <td>0.0</td>\n",
       "      <td>60.0</td>\n",
       "      <td>73.0</td>\n",
       "    </tr>\n",
       "    <tr>\n",
       "      <th>1015</th>\n",
       "      <td>Uttar Pradesh</td>\n",
       "      <td>2010</td>\n",
       "      <td>Murder - Total Victims</td>\n",
       "      <td>3. Total</td>\n",
       "      <td>344.0</td>\n",
       "      <td>4456</td>\n",
       "      <td>82.0</td>\n",
       "      <td>138.0</td>\n",
       "      <td>126.0</td>\n",
       "      <td>2358.0</td>\n",
       "      <td>1408.0</td>\n",
       "    </tr>\n",
       "    <tr>\n",
       "      <th>1016</th>\n",
       "      <td>Uttarakhand</td>\n",
       "      <td>2010</td>\n",
       "      <td>Murder - Total Victims</td>\n",
       "      <td>3. Total</td>\n",
       "      <td>19.0</td>\n",
       "      <td>176</td>\n",
       "      <td>1.0</td>\n",
       "      <td>NaN</td>\n",
       "      <td>2.0</td>\n",
       "      <td>91.0</td>\n",
       "      <td>63.0</td>\n",
       "    </tr>\n",
       "    <tr>\n",
       "      <th>1017</th>\n",
       "      <td>West Bengal</td>\n",
       "      <td>2010</td>\n",
       "      <td>Murder - Total Victims</td>\n",
       "      <td>3. Total</td>\n",
       "      <td>120.0</td>\n",
       "      <td>2415</td>\n",
       "      <td>8.0</td>\n",
       "      <td>2.0</td>\n",
       "      <td>6.0</td>\n",
       "      <td>1177.0</td>\n",
       "      <td>1102.0</td>\n",
       "    </tr>\n",
       "  </tbody>\n",
       "</table>\n",
       "<p>1018 rows × 11 columns</p>\n",
       "</div>"
      ],
      "text/plain": [
       "                      Area_Name  Year               Group_Name  \\\n",
       "0     Andaman & Nicobar Islands  2001  Murder - Female Victims   \n",
       "1                Andhra Pradesh  2001  Murder - Female Victims   \n",
       "2             Arunachal Pradesh  2001  Murder - Female Victims   \n",
       "3                         Assam  2001  Murder - Female Victims   \n",
       "4                         Bihar  2001  Murder - Female Victims   \n",
       "...                         ...   ...                      ...   \n",
       "1013                 Tamil Nadu  2010   Murder - Total Victims   \n",
       "1014                    Tripura  2010   Murder - Total Victims   \n",
       "1015              Uttar Pradesh  2010   Murder - Total Victims   \n",
       "1016                Uttarakhand  2010   Murder - Total Victims   \n",
       "1017                West Bengal  2010   Murder - Total Victims   \n",
       "\n",
       "         Sub_Group_Name  Victims_Above_50_Yrs  Victims_Total  \\\n",
       "0     2. Female Victims                   NaN              6   \n",
       "1     2. Female Victims                  67.0            607   \n",
       "2     2. Female Victims                   2.0             16   \n",
       "3     2. Female Victims                  11.0            128   \n",
       "4     2. Female Victims                  12.0            366   \n",
       "...                 ...                   ...            ...   \n",
       "1013           3. Total                 327.0           1908   \n",
       "1014           3. Total                  24.0            159   \n",
       "1015           3. Total                 344.0           4456   \n",
       "1016           3. Total                  19.0            176   \n",
       "1017           3. Total                 120.0           2415   \n",
       "\n",
       "      Victims_Upto_10_15_Yrs  Victims_Upto_10_Yrs  Victims_Upto_15_18_Yrs  \\\n",
       "0                        NaN                  NaN                     NaN   \n",
       "1                       15.0                 38.0                    43.0   \n",
       "2                        0.0                  0.0                     0.0   \n",
       "3                        8.0                  4.0                    23.0   \n",
       "4                        0.0                  0.0                    40.0   \n",
       "...                      ...                  ...                     ...   \n",
       "1013                    13.0                 63.0                    16.0   \n",
       "1014                     2.0                  0.0                     0.0   \n",
       "1015                    82.0                138.0                   126.0   \n",
       "1016                     1.0                  NaN                     2.0   \n",
       "1017                     8.0                  2.0                     6.0   \n",
       "\n",
       "      Victims_Upto_18_30_Yrs  Victims_Upto_30_50_Yrs  \n",
       "0                        4.0                     2.0  \n",
       "1                      269.0                   175.0  \n",
       "2                       10.0                     4.0  \n",
       "3                       45.0                    37.0  \n",
       "4                      191.0                   123.0  \n",
       "...                      ...                     ...  \n",
       "1013                   650.0                   839.0  \n",
       "1014                    60.0                    73.0  \n",
       "1015                  2358.0                  1408.0  \n",
       "1016                    91.0                    63.0  \n",
       "1017                  1177.0                  1102.0  \n",
       "\n",
       "[1018 rows x 11 columns]"
      ]
     },
     "execution_count": 3,
     "metadata": {},
     "output_type": "execute_result"
    }
   ],
   "source": [
    "df=pd.read_csv(r\"C:\\Users\\user\\ML projects\\Crime Rate Detection\\main\\32_Murder_victim_age_sex.csv\")\n",
    "df"
   ]
  },
  {
   "cell_type": "code",
   "execution_count": 4,
   "metadata": {},
   "outputs": [
    {
     "data": {
      "text/html": [
       "<div>\n",
       "<style scoped>\n",
       "    .dataframe tbody tr th:only-of-type {\n",
       "        vertical-align: middle;\n",
       "    }\n",
       "\n",
       "    .dataframe tbody tr th {\n",
       "        vertical-align: top;\n",
       "    }\n",
       "\n",
       "    .dataframe thead th {\n",
       "        text-align: right;\n",
       "    }\n",
       "</style>\n",
       "<table border=\"1\" class=\"dataframe\">\n",
       "  <thead>\n",
       "    <tr style=\"text-align: right;\">\n",
       "      <th></th>\n",
       "      <th>Year</th>\n",
       "      <th>State</th>\n",
       "      <th>Gender Group</th>\n",
       "      <th>Number Of Vicitms Between 18-30 Years</th>\n",
       "      <th>Number Of Vicitms Between 30-50 Years</th>\n",
       "      <th>Number Of Vicitms Between Above 50 Years</th>\n",
       "    </tr>\n",
       "  </thead>\n",
       "  <tbody>\n",
       "    <tr>\n",
       "      <th>0</th>\n",
       "      <td>2001</td>\n",
       "      <td>Andaman &amp; Nicobar Islands</td>\n",
       "      <td>Murder - Female Victims</td>\n",
       "      <td>4.0</td>\n",
       "      <td>2.0</td>\n",
       "      <td>NaN</td>\n",
       "    </tr>\n",
       "    <tr>\n",
       "      <th>1</th>\n",
       "      <td>2001</td>\n",
       "      <td>Andhra Pradesh</td>\n",
       "      <td>Murder - Female Victims</td>\n",
       "      <td>269.0</td>\n",
       "      <td>175.0</td>\n",
       "      <td>67.0</td>\n",
       "    </tr>\n",
       "    <tr>\n",
       "      <th>2</th>\n",
       "      <td>2001</td>\n",
       "      <td>Arunachal Pradesh</td>\n",
       "      <td>Murder - Female Victims</td>\n",
       "      <td>10.0</td>\n",
       "      <td>4.0</td>\n",
       "      <td>2.0</td>\n",
       "    </tr>\n",
       "    <tr>\n",
       "      <th>3</th>\n",
       "      <td>2001</td>\n",
       "      <td>Assam</td>\n",
       "      <td>Murder - Female Victims</td>\n",
       "      <td>45.0</td>\n",
       "      <td>37.0</td>\n",
       "      <td>11.0</td>\n",
       "    </tr>\n",
       "    <tr>\n",
       "      <th>4</th>\n",
       "      <td>2001</td>\n",
       "      <td>Bihar</td>\n",
       "      <td>Murder - Female Victims</td>\n",
       "      <td>191.0</td>\n",
       "      <td>123.0</td>\n",
       "      <td>12.0</td>\n",
       "    </tr>\n",
       "    <tr>\n",
       "      <th>...</th>\n",
       "      <td>...</td>\n",
       "      <td>...</td>\n",
       "      <td>...</td>\n",
       "      <td>...</td>\n",
       "      <td>...</td>\n",
       "      <td>...</td>\n",
       "    </tr>\n",
       "    <tr>\n",
       "      <th>1013</th>\n",
       "      <td>2010</td>\n",
       "      <td>Tamil Nadu</td>\n",
       "      <td>Murder - Total Victims</td>\n",
       "      <td>650.0</td>\n",
       "      <td>839.0</td>\n",
       "      <td>327.0</td>\n",
       "    </tr>\n",
       "    <tr>\n",
       "      <th>1014</th>\n",
       "      <td>2010</td>\n",
       "      <td>Tripura</td>\n",
       "      <td>Murder - Total Victims</td>\n",
       "      <td>60.0</td>\n",
       "      <td>73.0</td>\n",
       "      <td>24.0</td>\n",
       "    </tr>\n",
       "    <tr>\n",
       "      <th>1015</th>\n",
       "      <td>2010</td>\n",
       "      <td>Uttar Pradesh</td>\n",
       "      <td>Murder - Total Victims</td>\n",
       "      <td>2358.0</td>\n",
       "      <td>1408.0</td>\n",
       "      <td>344.0</td>\n",
       "    </tr>\n",
       "    <tr>\n",
       "      <th>1016</th>\n",
       "      <td>2010</td>\n",
       "      <td>Uttarakhand</td>\n",
       "      <td>Murder - Total Victims</td>\n",
       "      <td>91.0</td>\n",
       "      <td>63.0</td>\n",
       "      <td>19.0</td>\n",
       "    </tr>\n",
       "    <tr>\n",
       "      <th>1017</th>\n",
       "      <td>2010</td>\n",
       "      <td>West Bengal</td>\n",
       "      <td>Murder - Total Victims</td>\n",
       "      <td>1177.0</td>\n",
       "      <td>1102.0</td>\n",
       "      <td>120.0</td>\n",
       "    </tr>\n",
       "  </tbody>\n",
       "</table>\n",
       "<p>1018 rows × 6 columns</p>\n",
       "</div>"
      ],
      "text/plain": [
       "      Year                      State             Gender Group  \\\n",
       "0     2001  Andaman & Nicobar Islands  Murder - Female Victims   \n",
       "1     2001             Andhra Pradesh  Murder - Female Victims   \n",
       "2     2001          Arunachal Pradesh  Murder - Female Victims   \n",
       "3     2001                      Assam  Murder - Female Victims   \n",
       "4     2001                      Bihar  Murder - Female Victims   \n",
       "...    ...                        ...                      ...   \n",
       "1013  2010                 Tamil Nadu   Murder - Total Victims   \n",
       "1014  2010                    Tripura   Murder - Total Victims   \n",
       "1015  2010              Uttar Pradesh   Murder - Total Victims   \n",
       "1016  2010                Uttarakhand   Murder - Total Victims   \n",
       "1017  2010                West Bengal   Murder - Total Victims   \n",
       "\n",
       "      Number Of Vicitms Between 18-30 Years  \\\n",
       "0                                       4.0   \n",
       "1                                     269.0   \n",
       "2                                      10.0   \n",
       "3                                      45.0   \n",
       "4                                     191.0   \n",
       "...                                     ...   \n",
       "1013                                  650.0   \n",
       "1014                                   60.0   \n",
       "1015                                 2358.0   \n",
       "1016                                   91.0   \n",
       "1017                                 1177.0   \n",
       "\n",
       "      Number Of Vicitms Between 30-50 Years  \\\n",
       "0                                       2.0   \n",
       "1                                     175.0   \n",
       "2                                       4.0   \n",
       "3                                      37.0   \n",
       "4                                     123.0   \n",
       "...                                     ...   \n",
       "1013                                  839.0   \n",
       "1014                                   73.0   \n",
       "1015                                 1408.0   \n",
       "1016                                   63.0   \n",
       "1017                                 1102.0   \n",
       "\n",
       "      Number Of Vicitms Between Above 50 Years  \n",
       "0                                          NaN  \n",
       "1                                         67.0  \n",
       "2                                          2.0  \n",
       "3                                         11.0  \n",
       "4                                         12.0  \n",
       "...                                        ...  \n",
       "1013                                     327.0  \n",
       "1014                                      24.0  \n",
       "1015                                     344.0  \n",
       "1016                                      19.0  \n",
       "1017                                     120.0  \n",
       "\n",
       "[1018 rows x 6 columns]"
      ]
     },
     "execution_count": 4,
     "metadata": {},
     "output_type": "execute_result"
    }
   ],
   "source": [
    "crime_df=pd.DataFrame({\n",
    "    \"Year\":df[\"Year\"],\n",
    "    \"State\":df[\"Area_Name\"],\n",
    "    \"Gender Group\":df[\"Group_Name\"],\n",
    "    \"Number Of Vicitms Between 18-30 Years\":df[\"Victims_Upto_18_30_Yrs\"],\n",
    "    \"Number Of Vicitms Between 30-50 Years\":df[\"Victims_Upto_30_50_Yrs\"],\n",
    "    \"Number Of Vicitms Between Above 50 Years\":df[\"Victims_Above_50_Yrs\"]\n",
    "})\n",
    "crime_df"
   ]
  },
  {
   "cell_type": "code",
   "execution_count": 5,
   "metadata": {},
   "outputs": [
    {
     "name": "stdout",
     "output_type": "stream",
     "text": [
      "<class 'pandas.core.frame.DataFrame'>\n",
      "RangeIndex: 1018 entries, 0 to 1017\n",
      "Data columns (total 6 columns):\n",
      " #   Column                                    Non-Null Count  Dtype  \n",
      "---  ------                                    --------------  -----  \n",
      " 0   Year                                      1018 non-null   int64  \n",
      " 1   State                                     1018 non-null   object \n",
      " 2   Gender Group                              1018 non-null   object \n",
      " 3   Number Of Vicitms Between 18-30 Years     1009 non-null   float64\n",
      " 4   Number Of Vicitms Between 30-50 Years     1007 non-null   float64\n",
      " 5   Number Of Vicitms Between Above 50 Years  962 non-null    float64\n",
      "dtypes: float64(3), int64(1), object(2)\n",
      "memory usage: 47.8+ KB\n"
     ]
    }
   ],
   "source": [
    "crime_df.info()"
   ]
  },
  {
   "cell_type": "code",
   "execution_count": 6,
   "metadata": {},
   "outputs": [
    {
     "data": {
      "text/plain": [
       "Year                                        False\n",
       "State                                       False\n",
       "Gender Group                                False\n",
       "Number Of Vicitms Between 18-30 Years        True\n",
       "Number Of Vicitms Between 30-50 Years        True\n",
       "Number Of Vicitms Between Above 50 Years     True\n",
       "dtype: bool"
      ]
     },
     "execution_count": 6,
     "metadata": {},
     "output_type": "execute_result"
    }
   ],
   "source": [
    "crime_df.isna().any()"
   ]
  },
  {
   "cell_type": "code",
   "execution_count": 7,
   "metadata": {},
   "outputs": [],
   "source": [
    "crime_df[\"Number Of Vicitms Between 18-30 Years\"]=crime_df[\"Number Of Vicitms Between 18-30 Years\"].fillna(crime_df[\"Number Of Vicitms Between 18-30 Years\"].mean())"
   ]
  },
  {
   "cell_type": "code",
   "execution_count": 8,
   "metadata": {},
   "outputs": [],
   "source": [
    "crime_df[\"Number Of Vicitms Between 30-50 Years\"]=crime_df[\"Number Of Vicitms Between 30-50 Years\"].fillna(crime_df[\"Number Of Vicitms Between 30-50 Years\"].mean())"
   ]
  },
  {
   "cell_type": "code",
   "execution_count": 9,
   "metadata": {},
   "outputs": [],
   "source": [
    "crime_df[\"Number Of Vicitms Between Above 50 Years\"]=crime_df[\"Number Of Vicitms Between Above 50 Years\"].fillna(crime_df[\"Number Of Vicitms Between Above 50 Years\"].mean())"
   ]
  },
  {
   "cell_type": "code",
   "execution_count": 10,
   "metadata": {},
   "outputs": [
    {
     "data": {
      "text/plain": [
       "Year                                        False\n",
       "State                                       False\n",
       "Gender Group                                False\n",
       "Number Of Vicitms Between 18-30 Years       False\n",
       "Number Of Vicitms Between 30-50 Years       False\n",
       "Number Of Vicitms Between Above 50 Years    False\n",
       "dtype: bool"
      ]
     },
     "execution_count": 10,
     "metadata": {},
     "output_type": "execute_result"
    }
   ],
   "source": [
    "crime_df.isna().any()"
   ]
  },
  {
   "cell_type": "code",
   "execution_count": 11,
   "metadata": {},
   "outputs": [
    {
     "data": {
      "text/plain": [
       "0         73.559252\n",
       "1        511.000000\n",
       "2         16.000000\n",
       "3         93.000000\n",
       "4        326.000000\n",
       "           ...     \n",
       "1013    1816.000000\n",
       "1014     157.000000\n",
       "1015    4110.000000\n",
       "1016     173.000000\n",
       "1017    2399.000000\n",
       "Name: Total Number Of Vicitms, Length: 1018, dtype: float64"
      ]
     },
     "execution_count": 11,
     "metadata": {},
     "output_type": "execute_result"
    }
   ],
   "source": [
    "crime_df[\"Total Number Of Vicitms\"]=crime_df[\"Number Of Vicitms Between 18-30 Years\"]+crime_df[\"Number Of Vicitms Between 30-50 Years\"]+crime_df[\"Number Of Vicitms Between Above 50 Years\"]\n",
    "crime_df[\"Total Number Of Vicitms\"]"
   ]
  },
  {
   "cell_type": "code",
   "execution_count": 12,
   "metadata": {},
   "outputs": [
    {
     "data": {
      "text/plain": [
       "Year                                        False\n",
       "State                                       False\n",
       "Gender Group                                False\n",
       "Number Of Vicitms Between 18-30 Years       False\n",
       "Number Of Vicitms Between 30-50 Years       False\n",
       "Number Of Vicitms Between Above 50 Years    False\n",
       "Total Number Of Vicitms                     False\n",
       "dtype: bool"
      ]
     },
     "execution_count": 12,
     "metadata": {},
     "output_type": "execute_result"
    }
   ],
   "source": [
    "crime_df.isna().any()"
   ]
  },
  {
   "cell_type": "code",
   "execution_count": 13,
   "metadata": {},
   "outputs": [],
   "source": [
    "crime_df[\"Number Of Vicitms Between 18-30 Years\"]=crime_df[\"Number Of Vicitms Between 18-30 Years\"].astype(int)"
   ]
  },
  {
   "cell_type": "code",
   "execution_count": 14,
   "metadata": {},
   "outputs": [],
   "source": [
    "crime_df[\"Number Of Vicitms Between 30-50 Years\"]=crime_df[\"Number Of Vicitms Between 30-50 Years\"].astype(int)"
   ]
  },
  {
   "cell_type": "code",
   "execution_count": 15,
   "metadata": {},
   "outputs": [],
   "source": [
    "crime_df[\"Number Of Vicitms Between Above 50 Years\"]=crime_df[\"Number Of Vicitms Between Above 50 Years\"].astype(int)"
   ]
  },
  {
   "cell_type": "code",
   "execution_count": 16,
   "metadata": {},
   "outputs": [],
   "source": [
    "crime_df[\"Total Number Of Vicitms\"]=crime_df[\"Total Number Of Vicitms\"].astype(int)"
   ]
  },
  {
   "cell_type": "code",
   "execution_count": 17,
   "metadata": {},
   "outputs": [
    {
     "data": {
      "text/html": [
       "<div>\n",
       "<style scoped>\n",
       "    .dataframe tbody tr th:only-of-type {\n",
       "        vertical-align: middle;\n",
       "    }\n",
       "\n",
       "    .dataframe tbody tr th {\n",
       "        vertical-align: top;\n",
       "    }\n",
       "\n",
       "    .dataframe thead th {\n",
       "        text-align: right;\n",
       "    }\n",
       "</style>\n",
       "<table border=\"1\" class=\"dataframe\">\n",
       "  <thead>\n",
       "    <tr style=\"text-align: right;\">\n",
       "      <th></th>\n",
       "      <th>Year</th>\n",
       "      <th>State</th>\n",
       "      <th>Gender Group</th>\n",
       "      <th>Number Of Vicitms Between 18-30 Years</th>\n",
       "      <th>Number Of Vicitms Between 30-50 Years</th>\n",
       "      <th>Number Of Vicitms Between Above 50 Years</th>\n",
       "      <th>Total Number Of Vicitms</th>\n",
       "    </tr>\n",
       "  </thead>\n",
       "  <tbody>\n",
       "    <tr>\n",
       "      <th>0</th>\n",
       "      <td>2001</td>\n",
       "      <td>Andaman &amp; Nicobar Islands</td>\n",
       "      <td>Murder - Female Victims</td>\n",
       "      <td>4</td>\n",
       "      <td>2</td>\n",
       "      <td>67</td>\n",
       "      <td>73</td>\n",
       "    </tr>\n",
       "    <tr>\n",
       "      <th>1</th>\n",
       "      <td>2001</td>\n",
       "      <td>Andhra Pradesh</td>\n",
       "      <td>Murder - Female Victims</td>\n",
       "      <td>269</td>\n",
       "      <td>175</td>\n",
       "      <td>67</td>\n",
       "      <td>511</td>\n",
       "    </tr>\n",
       "    <tr>\n",
       "      <th>2</th>\n",
       "      <td>2001</td>\n",
       "      <td>Arunachal Pradesh</td>\n",
       "      <td>Murder - Female Victims</td>\n",
       "      <td>10</td>\n",
       "      <td>4</td>\n",
       "      <td>2</td>\n",
       "      <td>16</td>\n",
       "    </tr>\n",
       "    <tr>\n",
       "      <th>3</th>\n",
       "      <td>2001</td>\n",
       "      <td>Assam</td>\n",
       "      <td>Murder - Female Victims</td>\n",
       "      <td>45</td>\n",
       "      <td>37</td>\n",
       "      <td>11</td>\n",
       "      <td>93</td>\n",
       "    </tr>\n",
       "    <tr>\n",
       "      <th>4</th>\n",
       "      <td>2001</td>\n",
       "      <td>Bihar</td>\n",
       "      <td>Murder - Female Victims</td>\n",
       "      <td>191</td>\n",
       "      <td>123</td>\n",
       "      <td>12</td>\n",
       "      <td>326</td>\n",
       "    </tr>\n",
       "    <tr>\n",
       "      <th>...</th>\n",
       "      <td>...</td>\n",
       "      <td>...</td>\n",
       "      <td>...</td>\n",
       "      <td>...</td>\n",
       "      <td>...</td>\n",
       "      <td>...</td>\n",
       "      <td>...</td>\n",
       "    </tr>\n",
       "    <tr>\n",
       "      <th>1013</th>\n",
       "      <td>2010</td>\n",
       "      <td>Tamil Nadu</td>\n",
       "      <td>Murder - Total Victims</td>\n",
       "      <td>650</td>\n",
       "      <td>839</td>\n",
       "      <td>327</td>\n",
       "      <td>1816</td>\n",
       "    </tr>\n",
       "    <tr>\n",
       "      <th>1014</th>\n",
       "      <td>2010</td>\n",
       "      <td>Tripura</td>\n",
       "      <td>Murder - Total Victims</td>\n",
       "      <td>60</td>\n",
       "      <td>73</td>\n",
       "      <td>24</td>\n",
       "      <td>157</td>\n",
       "    </tr>\n",
       "    <tr>\n",
       "      <th>1015</th>\n",
       "      <td>2010</td>\n",
       "      <td>Uttar Pradesh</td>\n",
       "      <td>Murder - Total Victims</td>\n",
       "      <td>2358</td>\n",
       "      <td>1408</td>\n",
       "      <td>344</td>\n",
       "      <td>4110</td>\n",
       "    </tr>\n",
       "    <tr>\n",
       "      <th>1016</th>\n",
       "      <td>2010</td>\n",
       "      <td>Uttarakhand</td>\n",
       "      <td>Murder - Total Victims</td>\n",
       "      <td>91</td>\n",
       "      <td>63</td>\n",
       "      <td>19</td>\n",
       "      <td>173</td>\n",
       "    </tr>\n",
       "    <tr>\n",
       "      <th>1017</th>\n",
       "      <td>2010</td>\n",
       "      <td>West Bengal</td>\n",
       "      <td>Murder - Total Victims</td>\n",
       "      <td>1177</td>\n",
       "      <td>1102</td>\n",
       "      <td>120</td>\n",
       "      <td>2399</td>\n",
       "    </tr>\n",
       "  </tbody>\n",
       "</table>\n",
       "<p>1018 rows × 7 columns</p>\n",
       "</div>"
      ],
      "text/plain": [
       "      Year                      State             Gender Group  \\\n",
       "0     2001  Andaman & Nicobar Islands  Murder - Female Victims   \n",
       "1     2001             Andhra Pradesh  Murder - Female Victims   \n",
       "2     2001          Arunachal Pradesh  Murder - Female Victims   \n",
       "3     2001                      Assam  Murder - Female Victims   \n",
       "4     2001                      Bihar  Murder - Female Victims   \n",
       "...    ...                        ...                      ...   \n",
       "1013  2010                 Tamil Nadu   Murder - Total Victims   \n",
       "1014  2010                    Tripura   Murder - Total Victims   \n",
       "1015  2010              Uttar Pradesh   Murder - Total Victims   \n",
       "1016  2010                Uttarakhand   Murder - Total Victims   \n",
       "1017  2010                West Bengal   Murder - Total Victims   \n",
       "\n",
       "      Number Of Vicitms Between 18-30 Years  \\\n",
       "0                                         4   \n",
       "1                                       269   \n",
       "2                                        10   \n",
       "3                                        45   \n",
       "4                                       191   \n",
       "...                                     ...   \n",
       "1013                                    650   \n",
       "1014                                     60   \n",
       "1015                                   2358   \n",
       "1016                                     91   \n",
       "1017                                   1177   \n",
       "\n",
       "      Number Of Vicitms Between 30-50 Years  \\\n",
       "0                                         2   \n",
       "1                                       175   \n",
       "2                                         4   \n",
       "3                                        37   \n",
       "4                                       123   \n",
       "...                                     ...   \n",
       "1013                                    839   \n",
       "1014                                     73   \n",
       "1015                                   1408   \n",
       "1016                                     63   \n",
       "1017                                   1102   \n",
       "\n",
       "      Number Of Vicitms Between Above 50 Years  Total Number Of Vicitms  \n",
       "0                                           67                       73  \n",
       "1                                           67                      511  \n",
       "2                                            2                       16  \n",
       "3                                           11                       93  \n",
       "4                                           12                      326  \n",
       "...                                        ...                      ...  \n",
       "1013                                       327                     1816  \n",
       "1014                                        24                      157  \n",
       "1015                                       344                     4110  \n",
       "1016                                        19                      173  \n",
       "1017                                       120                     2399  \n",
       "\n",
       "[1018 rows x 7 columns]"
      ]
     },
     "execution_count": 17,
     "metadata": {},
     "output_type": "execute_result"
    }
   ],
   "source": [
    "crime_df"
   ]
  },
  {
   "cell_type": "code",
   "execution_count": 18,
   "metadata": {},
   "outputs": [],
   "source": [
    "# Any data point below lower_limit and any data point above upper_limit will be treated as an outlier.\n",
    "def treat_outlier(value):\n",
    "    if value<lower_limit:\n",
    "        return lower_limit\n",
    "    elif value>upper_limit:\n",
    "        return upper_limit\n",
    "    else:\n",
    "        return value"
   ]
  },
  {
   "cell_type": "code",
   "execution_count": 19,
   "metadata": {},
   "outputs": [],
   "source": [
    "import warnings\n",
    "warnings.filterwarnings('ignore')"
   ]
  },
  {
   "cell_type": "code",
   "execution_count": 20,
   "metadata": {},
   "outputs": [
    {
     "data": {
      "text/plain": [
       "<AxesSubplot:xlabel='Number Of Vicitms Between 18-30 Years'>"
      ]
     },
     "execution_count": 20,
     "metadata": {},
     "output_type": "execute_result"
    },
    {
     "data": {
      "image/png": "[encoded data removed]",
      "text/plain": [
       "<Figure size 432x288 with 1 Axes>"
      ]
     },
     "metadata": {
      "needs_background": "light"
     },
     "output_type": "display_data"
    }
   ],
   "source": [
    "import seaborn as sb\n",
    "sb.boxplot(crime_df[\"Number Of Vicitms Between 18-30 Years\"])"
   ]
  },
  {
   "cell_type": "code",
   "execution_count": 21,
   "metadata": {},
   "outputs": [
    {
     "data": {
      "text/plain": [
       "count    1018.000000\n",
       "mean      314.732809\n",
       "std       481.600202\n",
       "min         0.000000\n",
       "25%        13.000000\n",
       "50%       117.500000\n",
       "75%       415.750000\n",
       "max      3724.000000\n",
       "Name: Number Of Vicitms Between 18-30 Years, dtype: float64"
      ]
     },
     "execution_count": 21,
     "metadata": {},
     "output_type": "execute_result"
    }
   ],
   "source": [
    "crime_df[\"Number Of Vicitms Between 18-30 Years\"].describe()"
   ]
  },
  {
   "cell_type": "code",
   "execution_count": 22,
   "metadata": {},
   "outputs": [
    {
     "data": {
      "text/plain": [
       "13.0"
      ]
     },
     "execution_count": 22,
     "metadata": {},
     "output_type": "execute_result"
    }
   ],
   "source": [
    "q1=crime_df[\"Number Of Vicitms Between 18-30 Years\"].quantile(0.25)\n",
    "q1"
   ]
  },
  {
   "cell_type": "code",
   "execution_count": 23,
   "metadata": {},
   "outputs": [
    {
     "data": {
      "text/plain": [
       "415.75"
      ]
     },
     "execution_count": 23,
     "metadata": {},
     "output_type": "execute_result"
    }
   ],
   "source": [
    "q3=crime_df[\"Number Of Vicitms Between 18-30 Years\"].quantile(0.75)\n",
    "q3"
   ]
  },
  {
   "cell_type": "code",
   "execution_count": 24,
   "metadata": {},
   "outputs": [
    {
     "data": {
      "text/plain": [
       "402.75"
      ]
     },
     "execution_count": 24,
     "metadata": {},
     "output_type": "execute_result"
    }
   ],
   "source": [
    "iqr=q3-q1\n",
    "iqr"
   ]
  },
  {
   "cell_type": "code",
   "execution_count": 25,
   "metadata": {},
   "outputs": [
    {
     "data": {
      "text/plain": [
       "1019.875"
      ]
     },
     "execution_count": 25,
     "metadata": {},
     "output_type": "execute_result"
    }
   ],
   "source": [
    "upper_limit=q3+(iqr*1.5)\n",
    "upper_limit"
   ]
  },
  {
   "cell_type": "code",
   "execution_count": 26,
   "metadata": {},
   "outputs": [
    {
     "data": {
      "text/plain": [
       "-591.125"
      ]
     },
     "execution_count": 26,
     "metadata": {},
     "output_type": "execute_result"
    }
   ],
   "source": [
    "lower_limit=q1-(1.5*iqr)\n",
    "lower_limit"
   ]
  },
  {
   "cell_type": "code",
   "execution_count": 27,
   "metadata": {},
   "outputs": [
    {
     "data": {
      "text/plain": [
       "0"
      ]
     },
     "execution_count": 27,
     "metadata": {},
     "output_type": "execute_result"
    }
   ],
   "source": [
    "lower_limit=crime_df[\"Number Of Vicitms Between 18-30 Years\"].min()\n",
    "lower_limit"
   ]
  },
  {
   "cell_type": "code",
   "execution_count": 28,
   "metadata": {},
   "outputs": [],
   "source": [
    "crime_df[\"Number Of Vicitms Between 18-30 Years\"]=crime_df[\"Number Of Vicitms Between 18-30 Years\"].apply(treat_outlier)"
   ]
  },
  {
   "cell_type": "code",
   "execution_count": 29,
   "metadata": {},
   "outputs": [
    {
     "data": {
      "text/plain": [
       "count    1018.000000\n",
       "mean      266.000737\n",
       "std       312.639942\n",
       "min         0.000000\n",
       "25%        13.000000\n",
       "50%       117.500000\n",
       "75%       415.750000\n",
       "max      1019.875000\n",
       "Name: Number Of Vicitms Between 18-30 Years, dtype: float64"
      ]
     },
     "execution_count": 29,
     "metadata": {},
     "output_type": "execute_result"
    }
   ],
   "source": [
    "crime_df[\"Number Of Vicitms Between 18-30 Years\"].describe()"
   ]
  },
  {
   "cell_type": "code",
   "execution_count": 30,
   "metadata": {},
   "outputs": [
    {
     "data": {
      "text/plain": [
       "<AxesSubplot:xlabel='Number Of Vicitms Between 18-30 Years'>"
      ]
     },
     "execution_count": 30,
     "metadata": {},
     "output_type": "execute_result"
    },
    {
     "data": {
      "image/png": "[encoded data removed]",
      "text/plain": [
       "<Figure size 432x288 with 1 Axes>"
      ]
     },
     "metadata": {
      "needs_background": "light"
     },
     "output_type": "display_data"
    }
   ],
   "source": [
    "sb.boxplot(crime_df[\"Number Of Vicitms Between 18-30 Years\"])"
   ]
  },
  {
   "cell_type": "code",
   "execution_count": 31,
   "metadata": {},
   "outputs": [
    {
     "data": {
      "text/plain": [
       "<AxesSubplot:xlabel='Number Of Vicitms Between 30-50 Years'>"
      ]
     },
     "execution_count": 31,
     "metadata": {},
     "output_type": "execute_result"
    },
    {
     "data": {
      "image/png": "[encoded data removed]",
      "text/plain": [
       "<Figure size 432x288 with 1 Axes>"
      ]
     },
     "metadata": {
      "needs_background": "light"
     },
     "output_type": "display_data"
    }
   ],
   "source": [
    "sb.boxplot(crime_df[\"Number Of Vicitms Between 30-50 Years\"])"
   ]
  },
  {
   "cell_type": "code",
   "execution_count": 32,
   "metadata": {},
   "outputs": [
    {
     "data": {
      "text/plain": [
       "count    1018.000000\n",
       "mean      274.227898\n",
       "std       394.058415\n",
       "min         0.000000\n",
       "25%        13.000000\n",
       "50%       105.000000\n",
       "75%       409.750000\n",
       "max      3143.000000\n",
       "Name: Number Of Vicitms Between 30-50 Years, dtype: float64"
      ]
     },
     "execution_count": 32,
     "metadata": {},
     "output_type": "execute_result"
    }
   ],
   "source": [
    "crime_df[\"Number Of Vicitms Between 30-50 Years\"].describe()"
   ]
  },
  {
   "cell_type": "code",
   "execution_count": 33,
   "metadata": {},
   "outputs": [
    {
     "data": {
      "text/plain": [
       "13.0"
      ]
     },
     "execution_count": 33,
     "metadata": {},
     "output_type": "execute_result"
    }
   ],
   "source": [
    "q1=crime_df[\"Number Of Vicitms Between 30-50 Years\"].quantile(0.25)\n",
    "q1"
   ]
  },
  {
   "cell_type": "code",
   "execution_count": 34,
   "metadata": {},
   "outputs": [
    {
     "data": {
      "text/plain": [
       "409.75"
      ]
     },
     "execution_count": 34,
     "metadata": {},
     "output_type": "execute_result"
    }
   ],
   "source": [
    "q3=crime_df[\"Number Of Vicitms Between 30-50 Years\"].quantile(0.75)\n",
    "q3"
   ]
  },
  {
   "cell_type": "code",
   "execution_count": 35,
   "metadata": {},
   "outputs": [
    {
     "data": {
      "text/plain": [
       "396.75"
      ]
     },
     "execution_count": 35,
     "metadata": {},
     "output_type": "execute_result"
    }
   ],
   "source": [
    "iqr=q3-q1\n",
    "iqr"
   ]
  },
  {
   "cell_type": "code",
   "execution_count": 36,
   "metadata": {},
   "outputs": [
    {
     "data": {
      "text/plain": [
       "1004.875"
      ]
     },
     "execution_count": 36,
     "metadata": {},
     "output_type": "execute_result"
    }
   ],
   "source": [
    "upper_limit=q3+(iqr*1.5)\n",
    "upper_limit"
   ]
  },
  {
   "cell_type": "code",
   "execution_count": 37,
   "metadata": {},
   "outputs": [
    {
     "data": {
      "text/plain": [
       "-582.125"
      ]
     },
     "execution_count": 37,
     "metadata": {},
     "output_type": "execute_result"
    }
   ],
   "source": [
    "lower_limit=q1-(1.5*iqr)\n",
    "lower_limit"
   ]
  },
  {
   "cell_type": "code",
   "execution_count": 38,
   "metadata": {},
   "outputs": [
    {
     "data": {
      "text/plain": [
       "0"
      ]
     },
     "execution_count": 38,
     "metadata": {},
     "output_type": "execute_result"
    }
   ],
   "source": [
    "lower_limit=crime_df[\"Number Of Vicitms Between 30-50 Years\"].min()\n",
    "lower_limit"
   ]
  },
  {
   "cell_type": "code",
   "execution_count": 39,
   "metadata": {},
   "outputs": [],
   "source": [
    "crime_df[\"Number Of Vicitms Between 30-50 Years\"]=crime_df[\"Number Of Vicitms Between 30-50 Years\"].apply(treat_outlier)"
   ]
  },
  {
   "cell_type": "code",
   "execution_count": 40,
   "metadata": {},
   "outputs": [
    {
     "data": {
      "text/plain": [
       "count    1018.000000\n",
       "mean      248.713900\n",
       "std       301.829452\n",
       "min         0.000000\n",
       "25%        13.000000\n",
       "50%       105.000000\n",
       "75%       409.750000\n",
       "max      1004.875000\n",
       "Name: Number Of Vicitms Between 30-50 Years, dtype: float64"
      ]
     },
     "execution_count": 40,
     "metadata": {},
     "output_type": "execute_result"
    }
   ],
   "source": [
    "crime_df[\"Number Of Vicitms Between 30-50 Years\"].describe()"
   ]
  },
  {
   "cell_type": "code",
   "execution_count": 41,
   "metadata": {},
   "outputs": [
    {
     "data": {
      "text/plain": [
       "<AxesSubplot:xlabel='Number Of Vicitms Between 30-50 Years'>"
      ]
     },
     "execution_count": 41,
     "metadata": {},
     "output_type": "execute_result"
    },
    {
     "data": {
      "image/png": "[encoded data removed]",
      "text/plain": [
       "<Figure size 432x288 with 1 Axes>"
      ]
     },
     "metadata": {
      "needs_background": "light"
     },
     "output_type": "display_data"
    }
   ],
   "source": [
    "sb.boxplot(crime_df[\"Number Of Vicitms Between 30-50 Years\"])"
   ]
  },
  {
   "cell_type": "code",
   "execution_count": 42,
   "metadata": {},
   "outputs": [
    {
     "data": {
      "text/plain": [
       "<AxesSubplot:xlabel='Number Of Vicitms Between Above 50 Years'>"
      ]
     },
     "execution_count": 42,
     "metadata": {},
     "output_type": "execute_result"
    },
    {
     "data": {
      "image/png": "[encoded data removed]",
      "text/plain": [
       "<Figure size 432x288 with 1 Axes>"
      ]
     },
     "metadata": {
      "needs_background": "light"
     },
     "output_type": "display_data"
    }
   ],
   "source": [
    "sb.boxplot(crime_df[\"Number Of Vicitms Between Above 50 Years\"])"
   ]
  },
  {
   "cell_type": "code",
   "execution_count": 43,
   "metadata": {},
   "outputs": [
    {
     "data": {
      "text/plain": [
       "count    1018.000000\n",
       "mean       67.528487\n",
       "std        97.840094\n",
       "min         0.000000\n",
       "25%         3.250000\n",
       "50%        29.000000\n",
       "75%        82.000000\n",
       "max       824.000000\n",
       "Name: Number Of Vicitms Between Above 50 Years, dtype: float64"
      ]
     },
     "execution_count": 43,
     "metadata": {},
     "output_type": "execute_result"
    }
   ],
   "source": [
    "crime_df[\"Number Of Vicitms Between Above 50 Years\"].describe()"
   ]
  },
  {
   "cell_type": "code",
   "execution_count": 44,
   "metadata": {},
   "outputs": [
    {
     "data": {
      "text/plain": [
       "3.25"
      ]
     },
     "execution_count": 44,
     "metadata": {},
     "output_type": "execute_result"
    }
   ],
   "source": [
    "q1=crime_df[\"Number Of Vicitms Between Above 50 Years\"].quantile(0.25)\n",
    "q1"
   ]
  },
  {
   "cell_type": "code",
   "execution_count": 45,
   "metadata": {},
   "outputs": [
    {
     "data": {
      "text/plain": [
       "82.0"
      ]
     },
     "execution_count": 45,
     "metadata": {},
     "output_type": "execute_result"
    }
   ],
   "source": [
    "q3=crime_df[\"Number Of Vicitms Between Above 50 Years\"].quantile(0.75)\n",
    "q3"
   ]
  },
  {
   "cell_type": "code",
   "execution_count": 46,
   "metadata": {},
   "outputs": [
    {
     "data": {
      "text/plain": [
       "78.75"
      ]
     },
     "execution_count": 46,
     "metadata": {},
     "output_type": "execute_result"
    }
   ],
   "source": [
    "iqr=q3-q1\n",
    "iqr"
   ]
  },
  {
   "cell_type": "code",
   "execution_count": 47,
   "metadata": {},
   "outputs": [
    {
     "data": {
      "text/plain": [
       "200.125"
      ]
     },
     "execution_count": 47,
     "metadata": {},
     "output_type": "execute_result"
    }
   ],
   "source": [
    "upper_limit=q3+(iqr*1.5)\n",
    "upper_limit"
   ]
  },
  {
   "cell_type": "code",
   "execution_count": 48,
   "metadata": {},
   "outputs": [
    {
     "data": {
      "text/plain": [
       "-114.875"
      ]
     },
     "execution_count": 48,
     "metadata": {},
     "output_type": "execute_result"
    }
   ],
   "source": [
    "lower_limit=q1-(1.5*iqr)\n",
    "lower_limit"
   ]
  },
  {
   "cell_type": "code",
   "execution_count": 49,
   "metadata": {},
   "outputs": [
    {
     "data": {
      "text/plain": [
       "0"
      ]
     },
     "execution_count": 49,
     "metadata": {},
     "output_type": "execute_result"
    }
   ],
   "source": [
    "lower_limit=crime_df[\"Number Of Vicitms Between Above 50 Years\"].min()\n",
    "lower_limit"
   ]
  },
  {
   "cell_type": "code",
   "execution_count": 50,
   "metadata": {},
   "outputs": [],
   "source": [
    "crime_df[\"Number Of Vicitms Between Above 50 Years\"]=crime_df[\"Number Of Vicitms Between Above 50 Years\"].apply(treat_outlier)"
   ]
  },
  {
   "cell_type": "code",
   "execution_count": 51,
   "metadata": {},
   "outputs": [
    {
     "data": {
      "text/plain": [
       "count    1018.000000\n",
       "mean       56.567903\n",
       "std        64.355325\n",
       "min         0.000000\n",
       "25%         3.250000\n",
       "50%        29.000000\n",
       "75%        82.000000\n",
       "max       200.125000\n",
       "Name: Number Of Vicitms Between Above 50 Years, dtype: float64"
      ]
     },
     "execution_count": 51,
     "metadata": {},
     "output_type": "execute_result"
    }
   ],
   "source": [
    "crime_df[\"Number Of Vicitms Between Above 50 Years\"].describe()"
   ]
  },
  {
   "cell_type": "code",
   "execution_count": 52,
   "metadata": {},
   "outputs": [
    {
     "data": {
      "text/plain": [
       "<AxesSubplot:xlabel='Number Of Vicitms Between Above 50 Years'>"
      ]
     },
     "execution_count": 52,
     "metadata": {},
     "output_type": "execute_result"
    },
    {
     "data": {
      "image/png": "[encoded data removed]",
      "text/plain": [
       "<Figure size 432x288 with 1 Axes>"
      ]
     },
     "metadata": {
      "needs_background": "light"
     },
     "output_type": "display_data"
    }
   ],
   "source": [
    "sb.boxplot(crime_df[\"Number Of Vicitms Between Above 50 Years\"])"
   ]
  },
  {
   "cell_type": "code",
   "execution_count": 53,
   "metadata": {},
   "outputs": [
    {
     "data": {
      "text/plain": [
       "<AxesSubplot:xlabel='Total Number Of Vicitms'>"
      ]
     },
     "execution_count": 53,
     "metadata": {},
     "output_type": "execute_result"
    },
    {
     "data": {
      "image/png": "[encoded data removed]",
      "text/plain": [
       "<Figure size 432x288 with 1 Axes>"
      ]
     },
     "metadata": {
      "needs_background": "light"
     },
     "output_type": "display_data"
    }
   ],
   "source": [
    "sb.boxplot(crime_df[\"Total Number Of Vicitms\"])"
   ]
  },
  {
   "cell_type": "code",
   "execution_count": 54,
   "metadata": {},
   "outputs": [
    {
     "data": {
      "text/plain": [
       "count    1018.000000\n",
       "mean      656.495088\n",
       "std       954.991801\n",
       "min         0.000000\n",
       "25%        58.250000\n",
       "50%       264.000000\n",
       "75%       970.750000\n",
       "max      7691.000000\n",
       "Name: Total Number Of Vicitms, dtype: float64"
      ]
     },
     "execution_count": 54,
     "metadata": {},
     "output_type": "execute_result"
    }
   ],
   "source": [
    "crime_df[\"Total Number Of Vicitms\"].describe()"
   ]
  },
  {
   "cell_type": "code",
   "execution_count": 55,
   "metadata": {},
   "outputs": [
    {
     "data": {
      "text/plain": [
       "58.25"
      ]
     },
     "execution_count": 55,
     "metadata": {},
     "output_type": "execute_result"
    }
   ],
   "source": [
    "q1=crime_df[\"Total Number Of Vicitms\"].quantile(0.25)\n",
    "q1"
   ]
  },
  {
   "cell_type": "code",
   "execution_count": 56,
   "metadata": {},
   "outputs": [
    {
     "data": {
      "text/plain": [
       "970.75"
      ]
     },
     "execution_count": 56,
     "metadata": {},
     "output_type": "execute_result"
    }
   ],
   "source": [
    "q3=crime_df[\"Total Number Of Vicitms\"].quantile(0.75)\n",
    "q3"
   ]
  },
  {
   "cell_type": "code",
   "execution_count": 57,
   "metadata": {},
   "outputs": [
    {
     "data": {
      "text/plain": [
       "912.5"
      ]
     },
     "execution_count": 57,
     "metadata": {},
     "output_type": "execute_result"
    }
   ],
   "source": [
    "iqr=q3-q1\n",
    "iqr"
   ]
  },
  {
   "cell_type": "code",
   "execution_count": 58,
   "metadata": {},
   "outputs": [
    {
     "data": {
      "text/plain": [
       "2339.5"
      ]
     },
     "execution_count": 58,
     "metadata": {},
     "output_type": "execute_result"
    }
   ],
   "source": [
    "upper_limit=q3+(iqr*1.5)\n",
    "upper_limit"
   ]
  },
  {
   "cell_type": "code",
   "execution_count": 59,
   "metadata": {},
   "outputs": [
    {
     "data": {
      "text/plain": [
       "-1310.5"
      ]
     },
     "execution_count": 59,
     "metadata": {},
     "output_type": "execute_result"
    }
   ],
   "source": [
    "lower_limit=q1-(1.5*iqr)\n",
    "lower_limit"
   ]
  },
  {
   "cell_type": "code",
   "execution_count": 60,
   "metadata": {},
   "outputs": [
    {
     "data": {
      "text/plain": [
       "0"
      ]
     },
     "execution_count": 60,
     "metadata": {},
     "output_type": "execute_result"
    }
   ],
   "source": [
    "lower_limit=crime_df[\"Total Number Of Vicitms\"].min()\n",
    "lower_limit"
   ]
  },
  {
   "cell_type": "code",
   "execution_count": 61,
   "metadata": {},
   "outputs": [],
   "source": [
    "crime_df[\"Total Number Of Vicitms\"]=crime_df[\"Total Number Of Vicitms\"].apply(treat_outlier)"
   ]
  },
  {
   "cell_type": "code",
   "execution_count": 62,
   "metadata": {},
   "outputs": [
    {
     "data": {
      "text/plain": [
       "count    1018.000000\n",
       "mean      583.001473\n",
       "std       691.588835\n",
       "min         0.000000\n",
       "25%        58.250000\n",
       "50%       264.000000\n",
       "75%       970.750000\n",
       "max      2339.500000\n",
       "Name: Total Number Of Vicitms, dtype: float64"
      ]
     },
     "execution_count": 62,
     "metadata": {},
     "output_type": "execute_result"
    }
   ],
   "source": [
    "crime_df[\"Total Number Of Vicitms\"].describe()"
   ]
  },
  {
   "cell_type": "code",
   "execution_count": 63,
   "metadata": {},
   "outputs": [
    {
     "data": {
      "text/plain": [
       "<AxesSubplot:xlabel='Total Number Of Vicitms'>"
      ]
     },
     "execution_count": 63,
     "metadata": {},
     "output_type": "execute_result"
    },
    {
     "data": {
      "image/png": "[encoded data removed]",
      "text/plain": [
       "<Figure size 432x288 with 1 Axes>"
      ]
     },
     "metadata": {
      "needs_background": "light"
     },
     "output_type": "display_data"
    }
   ],
   "source": [
    "sb.boxplot(crime_df[\"Total Number Of Vicitms\"])"
   ]
  },
  {
   "cell_type": "code",
   "execution_count": 64,
   "metadata": {},
   "outputs": [],
   "source": [
    "crime_df[\"Number Of Vicitms Between 18-30 Years\"]=crime_df[\"Number Of Vicitms Between 18-30 Years\"].astype(int)"
   ]
  },
  {
   "cell_type": "code",
   "execution_count": 65,
   "metadata": {},
   "outputs": [],
   "source": [
    "crime_df[\"Number Of Vicitms Between 30-50 Years\"]=crime_df[\"Number Of Vicitms Between 30-50 Years\"].astype(int)"
   ]
  },
  {
   "cell_type": "code",
   "execution_count": 66,
   "metadata": {},
   "outputs": [],
   "source": [
    "crime_df[\"Number Of Vicitms Between 30-50 Years\"]=crime_df[\"Number Of Vicitms Between 30-50 Years\"].astype(int)"
   ]
  },
  {
   "cell_type": "code",
   "execution_count": 67,
   "metadata": {},
   "outputs": [],
   "source": [
    "crime_df[\"Number Of Vicitms Between Above 50 Years\"]=crime_df[\"Number Of Vicitms Between Above 50 Years\"].astype(int)"
   ]
  },
  {
   "cell_type": "code",
   "execution_count": 68,
   "metadata": {},
   "outputs": [],
   "source": [
    "crime_df[\"Total Number Of Vicitms\"]=crime_df[\"Total Number Of Vicitms\"].astype(int)"
   ]
  },
  {
   "cell_type": "code",
   "execution_count": 69,
   "metadata": {},
   "outputs": [
    {
     "data": {
      "text/html": [
       "<div>\n",
       "<style scoped>\n",
       "    .dataframe tbody tr th:only-of-type {\n",
       "        vertical-align: middle;\n",
       "    }\n",
       "\n",
       "    .dataframe tbody tr th {\n",
       "        vertical-align: top;\n",
       "    }\n",
       "\n",
       "    .dataframe thead th {\n",
       "        text-align: right;\n",
       "    }\n",
       "</style>\n",
       "<table border=\"1\" class=\"dataframe\">\n",
       "  <thead>\n",
       "    <tr style=\"text-align: right;\">\n",
       "      <th></th>\n",
       "      <th>Year</th>\n",
       "      <th>State</th>\n",
       "      <th>Gender Group</th>\n",
       "      <th>Number Of Vicitms Between 18-30 Years</th>\n",
       "      <th>Number Of Vicitms Between 30-50 Years</th>\n",
       "      <th>Number Of Vicitms Between Above 50 Years</th>\n",
       "      <th>Total Number Of Vicitms</th>\n",
       "    </tr>\n",
       "  </thead>\n",
       "  <tbody>\n",
       "    <tr>\n",
       "      <th>0</th>\n",
       "      <td>2001</td>\n",
       "      <td>Andaman &amp; Nicobar Islands</td>\n",
       "      <td>Murder - Female Victims</td>\n",
       "      <td>4</td>\n",
       "      <td>2</td>\n",
       "      <td>67</td>\n",
       "      <td>73</td>\n",
       "    </tr>\n",
       "    <tr>\n",
       "      <th>1</th>\n",
       "      <td>2001</td>\n",
       "      <td>Andhra Pradesh</td>\n",
       "      <td>Murder - Female Victims</td>\n",
       "      <td>269</td>\n",
       "      <td>175</td>\n",
       "      <td>67</td>\n",
       "      <td>511</td>\n",
       "    </tr>\n",
       "    <tr>\n",
       "      <th>2</th>\n",
       "      <td>2001</td>\n",
       "      <td>Arunachal Pradesh</td>\n",
       "      <td>Murder - Female Victims</td>\n",
       "      <td>10</td>\n",
       "      <td>4</td>\n",
       "      <td>2</td>\n",
       "      <td>16</td>\n",
       "    </tr>\n",
       "    <tr>\n",
       "      <th>3</th>\n",
       "      <td>2001</td>\n",
       "      <td>Assam</td>\n",
       "      <td>Murder - Female Victims</td>\n",
       "      <td>45</td>\n",
       "      <td>37</td>\n",
       "      <td>11</td>\n",
       "      <td>93</td>\n",
       "    </tr>\n",
       "    <tr>\n",
       "      <th>4</th>\n",
       "      <td>2001</td>\n",
       "      <td>Bihar</td>\n",
       "      <td>Murder - Female Victims</td>\n",
       "      <td>191</td>\n",
       "      <td>123</td>\n",
       "      <td>12</td>\n",
       "      <td>326</td>\n",
       "    </tr>\n",
       "    <tr>\n",
       "      <th>...</th>\n",
       "      <td>...</td>\n",
       "      <td>...</td>\n",
       "      <td>...</td>\n",
       "      <td>...</td>\n",
       "      <td>...</td>\n",
       "      <td>...</td>\n",
       "      <td>...</td>\n",
       "    </tr>\n",
       "    <tr>\n",
       "      <th>1013</th>\n",
       "      <td>2010</td>\n",
       "      <td>Tamil Nadu</td>\n",
       "      <td>Murder - Total Victims</td>\n",
       "      <td>650</td>\n",
       "      <td>839</td>\n",
       "      <td>200</td>\n",
       "      <td>1816</td>\n",
       "    </tr>\n",
       "    <tr>\n",
       "      <th>1014</th>\n",
       "      <td>2010</td>\n",
       "      <td>Tripura</td>\n",
       "      <td>Murder - Total Victims</td>\n",
       "      <td>60</td>\n",
       "      <td>73</td>\n",
       "      <td>24</td>\n",
       "      <td>157</td>\n",
       "    </tr>\n",
       "    <tr>\n",
       "      <th>1015</th>\n",
       "      <td>2010</td>\n",
       "      <td>Uttar Pradesh</td>\n",
       "      <td>Murder - Total Victims</td>\n",
       "      <td>1019</td>\n",
       "      <td>1004</td>\n",
       "      <td>200</td>\n",
       "      <td>2339</td>\n",
       "    </tr>\n",
       "    <tr>\n",
       "      <th>1016</th>\n",
       "      <td>2010</td>\n",
       "      <td>Uttarakhand</td>\n",
       "      <td>Murder - Total Victims</td>\n",
       "      <td>91</td>\n",
       "      <td>63</td>\n",
       "      <td>19</td>\n",
       "      <td>173</td>\n",
       "    </tr>\n",
       "    <tr>\n",
       "      <th>1017</th>\n",
       "      <td>2010</td>\n",
       "      <td>West Bengal</td>\n",
       "      <td>Murder - Total Victims</td>\n",
       "      <td>1019</td>\n",
       "      <td>1004</td>\n",
       "      <td>120</td>\n",
       "      <td>2339</td>\n",
       "    </tr>\n",
       "  </tbody>\n",
       "</table>\n",
       "<p>1018 rows × 7 columns</p>\n",
       "</div>"
      ],
      "text/plain": [
       "      Year                      State             Gender Group  \\\n",
       "0     2001  Andaman & Nicobar Islands  Murder - Female Victims   \n",
       "1     2001             Andhra Pradesh  Murder - Female Victims   \n",
       "2     2001          Arunachal Pradesh  Murder - Female Victims   \n",
       "3     2001                      Assam  Murder - Female Victims   \n",
       "4     2001                      Bihar  Murder - Female Victims   \n",
       "...    ...                        ...                      ...   \n",
       "1013  2010                 Tamil Nadu   Murder - Total Victims   \n",
       "1014  2010                    Tripura   Murder - Total Victims   \n",
       "1015  2010              Uttar Pradesh   Murder - Total Victims   \n",
       "1016  2010                Uttarakhand   Murder - Total Victims   \n",
       "1017  2010                West Bengal   Murder - Total Victims   \n",
       "\n",
       "      Number Of Vicitms Between 18-30 Years  \\\n",
       "0                                         4   \n",
       "1                                       269   \n",
       "2                                        10   \n",
       "3                                        45   \n",
       "4                                       191   \n",
       "...                                     ...   \n",
       "1013                                    650   \n",
       "1014                                     60   \n",
       "1015                                   1019   \n",
       "1016                                     91   \n",
       "1017                                   1019   \n",
       "\n",
       "      Number Of Vicitms Between 30-50 Years  \\\n",
       "0                                         2   \n",
       "1                                       175   \n",
       "2                                         4   \n",
       "3                                        37   \n",
       "4                                       123   \n",
       "...                                     ...   \n",
       "1013                                    839   \n",
       "1014                                     73   \n",
       "1015                                   1004   \n",
       "1016                                     63   \n",
       "1017                                   1004   \n",
       "\n",
       "      Number Of Vicitms Between Above 50 Years  Total Number Of Vicitms  \n",
       "0                                           67                       73  \n",
       "1                                           67                      511  \n",
       "2                                            2                       16  \n",
       "3                                           11                       93  \n",
       "4                                           12                      326  \n",
       "...                                        ...                      ...  \n",
       "1013                                       200                     1816  \n",
       "1014                                        24                      157  \n",
       "1015                                       200                     2339  \n",
       "1016                                        19                      173  \n",
       "1017                                       120                     2339  \n",
       "\n",
       "[1018 rows x 7 columns]"
      ]
     },
     "execution_count": 69,
     "metadata": {},
     "output_type": "execute_result"
    }
   ],
   "source": [
    "crime_df"
   ]
  },
  {
   "cell_type": "code",
   "execution_count": 70,
   "metadata": {},
   "outputs": [
    {
     "name": "stdout",
     "output_type": "stream",
     "text": [
      "<class 'pandas.core.frame.DataFrame'>\n",
      "RangeIndex: 1018 entries, 0 to 1017\n",
      "Data columns (total 7 columns):\n",
      " #   Column                                    Non-Null Count  Dtype \n",
      "---  ------                                    --------------  ----- \n",
      " 0   Year                                      1018 non-null   int64 \n",
      " 1   State                                     1018 non-null   object\n",
      " 2   Gender Group                              1018 non-null   object\n",
      " 3   Number Of Vicitms Between 18-30 Years     1018 non-null   int32 \n",
      " 4   Number Of Vicitms Between 30-50 Years     1018 non-null   int32 \n",
      " 5   Number Of Vicitms Between Above 50 Years  1018 non-null   int32 \n",
      " 6   Total Number Of Vicitms                   1018 non-null   int32 \n",
      "dtypes: int32(4), int64(1), object(2)\n",
      "memory usage: 39.9+ KB\n"
     ]
    }
   ],
   "source": [
    "crime_df.info()"
   ]
  },
  {
   "cell_type": "code",
   "execution_count": 71,
   "metadata": {},
   "outputs": [
    {
     "data": {
      "text/html": [
       "<div>\n",
       "<style scoped>\n",
       "    .dataframe tbody tr th:only-of-type {\n",
       "        vertical-align: middle;\n",
       "    }\n",
       "\n",
       "    .dataframe tbody tr th {\n",
       "        vertical-align: top;\n",
       "    }\n",
       "\n",
       "    .dataframe thead th {\n",
       "        text-align: right;\n",
       "    }\n",
       "</style>\n",
       "<table border=\"1\" class=\"dataframe\">\n",
       "  <thead>\n",
       "    <tr style=\"text-align: right;\">\n",
       "      <th></th>\n",
       "      <th>Year</th>\n",
       "      <th>Number Of Vicitms Between 18-30 Years</th>\n",
       "      <th>Number Of Vicitms Between 30-50 Years</th>\n",
       "      <th>Number Of Vicitms Between Above 50 Years</th>\n",
       "      <th>Total Number Of Vicitms</th>\n",
       "    </tr>\n",
       "  </thead>\n",
       "  <tbody>\n",
       "    <tr>\n",
       "      <th>count</th>\n",
       "      <td>1018.000000</td>\n",
       "      <td>1018.000000</td>\n",
       "      <td>1018.000000</td>\n",
       "      <td>1018.000000</td>\n",
       "      <td>1018.000000</td>\n",
       "    </tr>\n",
       "    <tr>\n",
       "      <th>mean</th>\n",
       "      <td>2005.512770</td>\n",
       "      <td>265.944008</td>\n",
       "      <td>248.664047</td>\n",
       "      <td>56.555992</td>\n",
       "      <td>582.971513</td>\n",
       "    </tr>\n",
       "    <tr>\n",
       "      <th>std</th>\n",
       "      <td>2.866127</td>\n",
       "      <td>312.503061</td>\n",
       "      <td>301.704478</td>\n",
       "      <td>64.328735</td>\n",
       "      <td>691.512672</td>\n",
       "    </tr>\n",
       "    <tr>\n",
       "      <th>min</th>\n",
       "      <td>2001.000000</td>\n",
       "      <td>0.000000</td>\n",
       "      <td>0.000000</td>\n",
       "      <td>0.000000</td>\n",
       "      <td>0.000000</td>\n",
       "    </tr>\n",
       "    <tr>\n",
       "      <th>25%</th>\n",
       "      <td>2003.000000</td>\n",
       "      <td>13.000000</td>\n",
       "      <td>13.000000</td>\n",
       "      <td>3.250000</td>\n",
       "      <td>58.250000</td>\n",
       "    </tr>\n",
       "    <tr>\n",
       "      <th>50%</th>\n",
       "      <td>2006.000000</td>\n",
       "      <td>117.500000</td>\n",
       "      <td>105.000000</td>\n",
       "      <td>29.000000</td>\n",
       "      <td>264.000000</td>\n",
       "    </tr>\n",
       "    <tr>\n",
       "      <th>75%</th>\n",
       "      <td>2008.000000</td>\n",
       "      <td>415.750000</td>\n",
       "      <td>409.750000</td>\n",
       "      <td>82.000000</td>\n",
       "      <td>970.750000</td>\n",
       "    </tr>\n",
       "    <tr>\n",
       "      <th>max</th>\n",
       "      <td>2010.000000</td>\n",
       "      <td>1019.000000</td>\n",
       "      <td>1004.000000</td>\n",
       "      <td>200.000000</td>\n",
       "      <td>2339.000000</td>\n",
       "    </tr>\n",
       "  </tbody>\n",
       "</table>\n",
       "</div>"
      ],
      "text/plain": [
       "              Year  Number Of Vicitms Between 18-30 Years  \\\n",
       "count  1018.000000                            1018.000000   \n",
       "mean   2005.512770                             265.944008   \n",
       "std       2.866127                             312.503061   \n",
       "min    2001.000000                               0.000000   \n",
       "25%    2003.000000                              13.000000   \n",
       "50%    2006.000000                             117.500000   \n",
       "75%    2008.000000                             415.750000   \n",
       "max    2010.000000                            1019.000000   \n",
       "\n",
       "       Number Of Vicitms Between 30-50 Years  \\\n",
       "count                            1018.000000   \n",
       "mean                              248.664047   \n",
       "std                               301.704478   \n",
       "min                                 0.000000   \n",
       "25%                                13.000000   \n",
       "50%                               105.000000   \n",
       "75%                               409.750000   \n",
       "max                              1004.000000   \n",
       "\n",
       "       Number Of Vicitms Between Above 50 Years  Total Number Of Vicitms  \n",
       "count                               1018.000000              1018.000000  \n",
       "mean                                  56.555992               582.971513  \n",
       "std                                   64.328735               691.512672  \n",
       "min                                    0.000000                 0.000000  \n",
       "25%                                    3.250000                58.250000  \n",
       "50%                                   29.000000               264.000000  \n",
       "75%                                   82.000000               970.750000  \n",
       "max                                  200.000000              2339.000000  "
      ]
     },
     "execution_count": 71,
     "metadata": {},
     "output_type": "execute_result"
    }
   ],
   "source": [
    "crime_df.describe()"
   ]
  },
  {
   "cell_type": "code",
   "execution_count": 72,
   "metadata": {},
   "outputs": [
    {
     "data": {
      "text/plain": [
       "Text(0.5, 1.0, 'Crime rate graph against female for the state of Assam')"
      ]
     },
     "execution_count": 72,
     "metadata": {},
     "output_type": "execute_result"
    },
    {
     "data": {
      "image/png": "[encoded data removed]",
      "text/plain": [
       "<Figure size 432x288 with 1 Axes>"
      ]
     },
     "metadata": {
      "needs_background": "light"
     },
     "output_type": "display_data"
    }
   ],
   "source": [
    "# Graph against female victims for the state of Assam\n",
    "plt.bar(crime_df[(crime_df[\"State\"]==\"Assam\") & (crime_df[\"Gender Group\"]==\"Murder - Female Victims\")][\"Year\"], crime_df[(crime_df[\"State\"]==\"Assam\") & (crime_df[\"Gender Group\"]==\"Murder - Female Victims\")][\"Total Number Of Vicitms\"])\n",
    "plt.xlabel(\"Year\")\n",
    "plt.ylabel(\"Number of female victims\")\n",
    "plt.title(\"Crime rate graph against female for the state of Assam\")"
   ]
  },
  {
   "cell_type": "code",
   "execution_count": 73,
   "metadata": {},
   "outputs": [
    {
     "data": {
      "text/plain": [
       "Text(0.5, 1.0, 'Crime rate graph against male for the state of Assam')"
      ]
     },
     "execution_count": 73,
     "metadata": {},
     "output_type": "execute_result"
    },
    {
     "data": {
      "image/png": "[encoded data removed]",
      "text/plain": [
       "<Figure size 432x288 with 1 Axes>"
      ]
     },
     "metadata": {
      "needs_background": "light"
     },
     "output_type": "display_data"
    }
   ],
   "source": [
    "# Graph against male victims for the state of Assam\n",
    "plt.bar(crime_df[(crime_df[\"State\"]==\"Assam\") & (crime_df[\"Gender Group\"]==\"Murder - Male Victims\")][\"Year\"], crime_df[(crime_df[\"State\"]==\"Assam\") & (crime_df[\"Gender Group\"]==\"Murder - Male Victims\")][\"Total Number Of Vicitms\"])\n",
    "plt.xlabel(\"Year\")\n",
    "plt.ylabel(\"Number of male victims\")\n",
    "plt.title(\"Crime rate graph against male for the state of Assam\")"
   ]
  },
  {
   "cell_type": "code",
   "execution_count": 74,
   "metadata": {},
   "outputs": [
    {
     "data": {
      "text/html": [
       "<div>\n",
       "<style scoped>\n",
       "    .dataframe tbody tr th:only-of-type {\n",
       "        vertical-align: middle;\n",
       "    }\n",
       "\n",
       "    .dataframe tbody tr th {\n",
       "        vertical-align: top;\n",
       "    }\n",
       "\n",
       "    .dataframe thead th {\n",
       "        text-align: right;\n",
       "    }\n",
       "</style>\n",
       "<table border=\"1\" class=\"dataframe\">\n",
       "  <thead>\n",
       "    <tr style=\"text-align: right;\">\n",
       "      <th></th>\n",
       "      <th>Year</th>\n",
       "      <th>State</th>\n",
       "      <th>Gender Group</th>\n",
       "      <th>Number Of Vicitms Between 18-30 Years</th>\n",
       "      <th>Number Of Vicitms Between 30-50 Years</th>\n",
       "      <th>Number Of Vicitms Between Above 50 Years</th>\n",
       "    </tr>\n",
       "  </thead>\n",
       "  <tbody>\n",
       "    <tr>\n",
       "      <th>0</th>\n",
       "      <td>2001</td>\n",
       "      <td>Andaman &amp; Nicobar Islands</td>\n",
       "      <td>Murder - Female Victims</td>\n",
       "      <td>4</td>\n",
       "      <td>2</td>\n",
       "      <td>67</td>\n",
       "    </tr>\n",
       "    <tr>\n",
       "      <th>1</th>\n",
       "      <td>2001</td>\n",
       "      <td>Andhra Pradesh</td>\n",
       "      <td>Murder - Female Victims</td>\n",
       "      <td>269</td>\n",
       "      <td>175</td>\n",
       "      <td>67</td>\n",
       "    </tr>\n",
       "    <tr>\n",
       "      <th>2</th>\n",
       "      <td>2001</td>\n",
       "      <td>Arunachal Pradesh</td>\n",
       "      <td>Murder - Female Victims</td>\n",
       "      <td>10</td>\n",
       "      <td>4</td>\n",
       "      <td>2</td>\n",
       "    </tr>\n",
       "    <tr>\n",
       "      <th>3</th>\n",
       "      <td>2001</td>\n",
       "      <td>Assam</td>\n",
       "      <td>Murder - Female Victims</td>\n",
       "      <td>45</td>\n",
       "      <td>37</td>\n",
       "      <td>11</td>\n",
       "    </tr>\n",
       "    <tr>\n",
       "      <th>4</th>\n",
       "      <td>2001</td>\n",
       "      <td>Bihar</td>\n",
       "      <td>Murder - Female Victims</td>\n",
       "      <td>191</td>\n",
       "      <td>123</td>\n",
       "      <td>12</td>\n",
       "    </tr>\n",
       "    <tr>\n",
       "      <th>...</th>\n",
       "      <td>...</td>\n",
       "      <td>...</td>\n",
       "      <td>...</td>\n",
       "      <td>...</td>\n",
       "      <td>...</td>\n",
       "      <td>...</td>\n",
       "    </tr>\n",
       "    <tr>\n",
       "      <th>1013</th>\n",
       "      <td>2010</td>\n",
       "      <td>Tamil Nadu</td>\n",
       "      <td>Murder - Total Victims</td>\n",
       "      <td>650</td>\n",
       "      <td>839</td>\n",
       "      <td>200</td>\n",
       "    </tr>\n",
       "    <tr>\n",
       "      <th>1014</th>\n",
       "      <td>2010</td>\n",
       "      <td>Tripura</td>\n",
       "      <td>Murder - Total Victims</td>\n",
       "      <td>60</td>\n",
       "      <td>73</td>\n",
       "      <td>24</td>\n",
       "    </tr>\n",
       "    <tr>\n",
       "      <th>1015</th>\n",
       "      <td>2010</td>\n",
       "      <td>Uttar Pradesh</td>\n",
       "      <td>Murder - Total Victims</td>\n",
       "      <td>1019</td>\n",
       "      <td>1004</td>\n",
       "      <td>200</td>\n",
       "    </tr>\n",
       "    <tr>\n",
       "      <th>1016</th>\n",
       "      <td>2010</td>\n",
       "      <td>Uttarakhand</td>\n",
       "      <td>Murder - Total Victims</td>\n",
       "      <td>91</td>\n",
       "      <td>63</td>\n",
       "      <td>19</td>\n",
       "    </tr>\n",
       "    <tr>\n",
       "      <th>1017</th>\n",
       "      <td>2010</td>\n",
       "      <td>West Bengal</td>\n",
       "      <td>Murder - Total Victims</td>\n",
       "      <td>1019</td>\n",
       "      <td>1004</td>\n",
       "      <td>120</td>\n",
       "    </tr>\n",
       "  </tbody>\n",
       "</table>\n",
       "<p>1018 rows × 6 columns</p>\n",
       "</div>"
      ],
      "text/plain": [
       "      Year                      State             Gender Group  \\\n",
       "0     2001  Andaman & Nicobar Islands  Murder - Female Victims   \n",
       "1     2001             Andhra Pradesh  Murder - Female Victims   \n",
       "2     2001          Arunachal Pradesh  Murder - Female Victims   \n",
       "3     2001                      Assam  Murder - Female Victims   \n",
       "4     2001                      Bihar  Murder - Female Victims   \n",
       "...    ...                        ...                      ...   \n",
       "1013  2010                 Tamil Nadu   Murder - Total Victims   \n",
       "1014  2010                    Tripura   Murder - Total Victims   \n",
       "1015  2010              Uttar Pradesh   Murder - Total Victims   \n",
       "1016  2010                Uttarakhand   Murder - Total Victims   \n",
       "1017  2010                West Bengal   Murder - Total Victims   \n",
       "\n",
       "      Number Of Vicitms Between 18-30 Years  \\\n",
       "0                                         4   \n",
       "1                                       269   \n",
       "2                                        10   \n",
       "3                                        45   \n",
       "4                                       191   \n",
       "...                                     ...   \n",
       "1013                                    650   \n",
       "1014                                     60   \n",
       "1015                                   1019   \n",
       "1016                                     91   \n",
       "1017                                   1019   \n",
       "\n",
       "      Number Of Vicitms Between 30-50 Years  \\\n",
       "0                                         2   \n",
       "1                                       175   \n",
       "2                                         4   \n",
       "3                                        37   \n",
       "4                                       123   \n",
       "...                                     ...   \n",
       "1013                                    839   \n",
       "1014                                     73   \n",
       "1015                                   1004   \n",
       "1016                                     63   \n",
       "1017                                   1004   \n",
       "\n",
       "      Number Of Vicitms Between Above 50 Years  \n",
       "0                                           67  \n",
       "1                                           67  \n",
       "2                                            2  \n",
       "3                                           11  \n",
       "4                                           12  \n",
       "...                                        ...  \n",
       "1013                                       200  \n",
       "1014                                        24  \n",
       "1015                                       200  \n",
       "1016                                        19  \n",
       "1017                                       120  \n",
       "\n",
       "[1018 rows x 6 columns]"
      ]
     },
     "execution_count": 74,
     "metadata": {},
     "output_type": "execute_result"
    }
   ],
   "source": [
    "crime_df=crime_df.drop(columns=[\"Total Number Of Vicitms\"])\n",
    "crime_df"
   ]
  },
  {
   "cell_type": "code",
   "execution_count": 75,
   "metadata": {},
   "outputs": [],
   "source": [
    "from sklearn.preprocessing import LabelEncoder\n",
    "le=LabelEncoder()"
   ]
  },
  {
   "cell_type": "code",
   "execution_count": 76,
   "metadata": {},
   "outputs": [],
   "source": [
    "crime_df[\"Gender Group\"]=le.fit_transform(crime_df[\"Gender Group\"])"
   ]
  },
  {
   "cell_type": "code",
   "execution_count": 77,
   "metadata": {},
   "outputs": [],
   "source": [
    "crime_df[\"State\"]=le.fit_transform(crime_df[\"State\"])"
   ]
  },
  {
   "cell_type": "code",
   "execution_count": 78,
   "metadata": {},
   "outputs": [
    {
     "data": {
      "text/html": [
       "<div>\n",
       "<style scoped>\n",
       "    .dataframe tbody tr th:only-of-type {\n",
       "        vertical-align: middle;\n",
       "    }\n",
       "\n",
       "    .dataframe tbody tr th {\n",
       "        vertical-align: top;\n",
       "    }\n",
       "\n",
       "    .dataframe thead th {\n",
       "        text-align: right;\n",
       "    }\n",
       "</style>\n",
       "<table border=\"1\" class=\"dataframe\">\n",
       "  <thead>\n",
       "    <tr style=\"text-align: right;\">\n",
       "      <th></th>\n",
       "      <th>Year</th>\n",
       "      <th>State</th>\n",
       "      <th>Gender Group</th>\n",
       "      <th>Number Of Vicitms Between 18-30 Years</th>\n",
       "      <th>Number Of Vicitms Between 30-50 Years</th>\n",
       "      <th>Number Of Vicitms Between Above 50 Years</th>\n",
       "    </tr>\n",
       "  </thead>\n",
       "  <tbody>\n",
       "    <tr>\n",
       "      <th>0</th>\n",
       "      <td>2001</td>\n",
       "      <td>0</td>\n",
       "      <td>0</td>\n",
       "      <td>4</td>\n",
       "      <td>2</td>\n",
       "      <td>67</td>\n",
       "    </tr>\n",
       "    <tr>\n",
       "      <th>1</th>\n",
       "      <td>2001</td>\n",
       "      <td>1</td>\n",
       "      <td>0</td>\n",
       "      <td>269</td>\n",
       "      <td>175</td>\n",
       "      <td>67</td>\n",
       "    </tr>\n",
       "    <tr>\n",
       "      <th>2</th>\n",
       "      <td>2001</td>\n",
       "      <td>2</td>\n",
       "      <td>0</td>\n",
       "      <td>10</td>\n",
       "      <td>4</td>\n",
       "      <td>2</td>\n",
       "    </tr>\n",
       "    <tr>\n",
       "      <th>3</th>\n",
       "      <td>2001</td>\n",
       "      <td>3</td>\n",
       "      <td>0</td>\n",
       "      <td>45</td>\n",
       "      <td>37</td>\n",
       "      <td>11</td>\n",
       "    </tr>\n",
       "    <tr>\n",
       "      <th>4</th>\n",
       "      <td>2001</td>\n",
       "      <td>4</td>\n",
       "      <td>0</td>\n",
       "      <td>191</td>\n",
       "      <td>123</td>\n",
       "      <td>12</td>\n",
       "    </tr>\n",
       "    <tr>\n",
       "      <th>...</th>\n",
       "      <td>...</td>\n",
       "      <td>...</td>\n",
       "      <td>...</td>\n",
       "      <td>...</td>\n",
       "      <td>...</td>\n",
       "      <td>...</td>\n",
       "    </tr>\n",
       "    <tr>\n",
       "      <th>1013</th>\n",
       "      <td>2010</td>\n",
       "      <td>30</td>\n",
       "      <td>2</td>\n",
       "      <td>650</td>\n",
       "      <td>839</td>\n",
       "      <td>200</td>\n",
       "    </tr>\n",
       "    <tr>\n",
       "      <th>1014</th>\n",
       "      <td>2010</td>\n",
       "      <td>31</td>\n",
       "      <td>2</td>\n",
       "      <td>60</td>\n",
       "      <td>73</td>\n",
       "      <td>24</td>\n",
       "    </tr>\n",
       "    <tr>\n",
       "      <th>1015</th>\n",
       "      <td>2010</td>\n",
       "      <td>32</td>\n",
       "      <td>2</td>\n",
       "      <td>1019</td>\n",
       "      <td>1004</td>\n",
       "      <td>200</td>\n",
       "    </tr>\n",
       "    <tr>\n",
       "      <th>1016</th>\n",
       "      <td>2010</td>\n",
       "      <td>33</td>\n",
       "      <td>2</td>\n",
       "      <td>91</td>\n",
       "      <td>63</td>\n",
       "      <td>19</td>\n",
       "    </tr>\n",
       "    <tr>\n",
       "      <th>1017</th>\n",
       "      <td>2010</td>\n",
       "      <td>34</td>\n",
       "      <td>2</td>\n",
       "      <td>1019</td>\n",
       "      <td>1004</td>\n",
       "      <td>120</td>\n",
       "    </tr>\n",
       "  </tbody>\n",
       "</table>\n",
       "<p>1018 rows × 6 columns</p>\n",
       "</div>"
      ],
      "text/plain": [
       "      Year  State  Gender Group  Number Of Vicitms Between 18-30 Years  \\\n",
       "0     2001      0             0                                      4   \n",
       "1     2001      1             0                                    269   \n",
       "2     2001      2             0                                     10   \n",
       "3     2001      3             0                                     45   \n",
       "4     2001      4             0                                    191   \n",
       "...    ...    ...           ...                                    ...   \n",
       "1013  2010     30             2                                    650   \n",
       "1014  2010     31             2                                     60   \n",
       "1015  2010     32             2                                   1019   \n",
       "1016  2010     33             2                                     91   \n",
       "1017  2010     34             2                                   1019   \n",
       "\n",
       "      Number Of Vicitms Between 30-50 Years  \\\n",
       "0                                         2   \n",
       "1                                       175   \n",
       "2                                         4   \n",
       "3                                        37   \n",
       "4                                       123   \n",
       "...                                     ...   \n",
       "1013                                    839   \n",
       "1014                                     73   \n",
       "1015                                   1004   \n",
       "1016                                     63   \n",
       "1017                                   1004   \n",
       "\n",
       "      Number Of Vicitms Between Above 50 Years  \n",
       "0                                           67  \n",
       "1                                           67  \n",
       "2                                            2  \n",
       "3                                           11  \n",
       "4                                           12  \n",
       "...                                        ...  \n",
       "1013                                       200  \n",
       "1014                                        24  \n",
       "1015                                       200  \n",
       "1016                                        19  \n",
       "1017                                       120  \n",
       "\n",
       "[1018 rows x 6 columns]"
      ]
     },
     "execution_count": 78,
     "metadata": {},
     "output_type": "execute_result"
    }
   ],
   "source": [
    "crime_df"
   ]
  },
  {
   "cell_type": "code",
   "execution_count": 79,
   "metadata": {},
   "outputs": [
    {
     "name": "stdout",
     "output_type": "stream",
     "text": [
      "<class 'pandas.core.frame.DataFrame'>\n",
      "RangeIndex: 1018 entries, 0 to 1017\n",
      "Data columns (total 6 columns):\n",
      " #   Column                                    Non-Null Count  Dtype\n",
      "---  ------                                    --------------  -----\n",
      " 0   Year                                      1018 non-null   int64\n",
      " 1   State                                     1018 non-null   int32\n",
      " 2   Gender Group                              1018 non-null   int32\n",
      " 3   Number Of Vicitms Between 18-30 Years     1018 non-null   int32\n",
      " 4   Number Of Vicitms Between 30-50 Years     1018 non-null   int32\n",
      " 5   Number Of Vicitms Between Above 50 Years  1018 non-null   int32\n",
      "dtypes: int32(5), int64(1)\n",
      "memory usage: 28.0 KB\n"
     ]
    }
   ],
   "source": [
    "crime_df.info()"
   ]
  },
  {
   "cell_type": "code",
   "execution_count": 80,
   "metadata": {},
   "outputs": [
    {
     "data": {
      "text/plain": [
       "'\\nfrom sklearn.preprocessing import MinMaxScaler\\nscale=MinMaxScaler()\\n'"
      ]
     },
     "execution_count": 80,
     "metadata": {},
     "output_type": "execute_result"
    }
   ],
   "source": [
    "\"\"\"\n",
    "from sklearn.preprocessing import MinMaxScaler\n",
    "scale=MinMaxScaler()\n",
    "\"\"\""
   ]
  },
  {
   "cell_type": "code",
   "execution_count": 81,
   "metadata": {},
   "outputs": [
    {
     "data": {
      "text/plain": [
       "'\\nscale.fit(crime_df[[\"Year\"]])\\ncrime_df[\"Year\"]=scale.transform(crime_df[[\"Year\"]])\\n'"
      ]
     },
     "execution_count": 81,
     "metadata": {},
     "output_type": "execute_result"
    }
   ],
   "source": [
    "\"\"\"\n",
    "scale.fit(crime_df[[\"Year\"]])\n",
    "crime_df[\"Year\"]=scale.transform(crime_df[[\"Year\"]])\n",
    "\"\"\""
   ]
  },
  {
   "cell_type": "code",
   "execution_count": 82,
   "metadata": {},
   "outputs": [
    {
     "data": {
      "text/plain": [
       "'\\nscale.fit(crime_df[[\"State\"]])\\ncrime_df[\"State\"]=scale.transform(crime_df[[\"State\"]])\\n'"
      ]
     },
     "execution_count": 82,
     "metadata": {},
     "output_type": "execute_result"
    }
   ],
   "source": [
    "\"\"\"\n",
    "scale.fit(crime_df[[\"State\"]])\n",
    "crime_df[\"State\"]=scale.transform(crime_df[[\"State\"]])\n",
    "\"\"\""
   ]
  },
  {
   "cell_type": "code",
   "execution_count": 83,
   "metadata": {},
   "outputs": [
    {
     "data": {
      "text/plain": [
       "'\\nscale.fit(crime_df[[\"Gender Group\"]])\\ncrime_df[\"Gender Group\"]=scale.transform(crime_df[[\"Gender Group\"]])\\n'"
      ]
     },
     "execution_count": 83,
     "metadata": {},
     "output_type": "execute_result"
    }
   ],
   "source": [
    "\"\"\"\n",
    "scale.fit(crime_df[[\"Gender Group\"]])\n",
    "crime_df[\"Gender Group\"]=scale.transform(crime_df[[\"Gender Group\"]])\n",
    "\"\"\""
   ]
  },
  {
   "cell_type": "code",
   "execution_count": 84,
   "metadata": {},
   "outputs": [
    {
     "data": {
      "text/html": [
       "<div>\n",
       "<style scoped>\n",
       "    .dataframe tbody tr th:only-of-type {\n",
       "        vertical-align: middle;\n",
       "    }\n",
       "\n",
       "    .dataframe tbody tr th {\n",
       "        vertical-align: top;\n",
       "    }\n",
       "\n",
       "    .dataframe thead th {\n",
       "        text-align: right;\n",
       "    }\n",
       "</style>\n",
       "<table border=\"1\" class=\"dataframe\">\n",
       "  <thead>\n",
       "    <tr style=\"text-align: right;\">\n",
       "      <th></th>\n",
       "      <th>Year</th>\n",
       "      <th>State</th>\n",
       "      <th>Gender Group</th>\n",
       "      <th>Number Of Vicitms Between 18-30 Years</th>\n",
       "      <th>Number Of Vicitms Between 30-50 Years</th>\n",
       "      <th>Number Of Vicitms Between Above 50 Years</th>\n",
       "    </tr>\n",
       "  </thead>\n",
       "  <tbody>\n",
       "    <tr>\n",
       "      <th>0</th>\n",
       "      <td>2001</td>\n",
       "      <td>0</td>\n",
       "      <td>0</td>\n",
       "      <td>4</td>\n",
       "      <td>2</td>\n",
       "      <td>67</td>\n",
       "    </tr>\n",
       "    <tr>\n",
       "      <th>1</th>\n",
       "      <td>2001</td>\n",
       "      <td>1</td>\n",
       "      <td>0</td>\n",
       "      <td>269</td>\n",
       "      <td>175</td>\n",
       "      <td>67</td>\n",
       "    </tr>\n",
       "    <tr>\n",
       "      <th>2</th>\n",
       "      <td>2001</td>\n",
       "      <td>2</td>\n",
       "      <td>0</td>\n",
       "      <td>10</td>\n",
       "      <td>4</td>\n",
       "      <td>2</td>\n",
       "    </tr>\n",
       "    <tr>\n",
       "      <th>3</th>\n",
       "      <td>2001</td>\n",
       "      <td>3</td>\n",
       "      <td>0</td>\n",
       "      <td>45</td>\n",
       "      <td>37</td>\n",
       "      <td>11</td>\n",
       "    </tr>\n",
       "    <tr>\n",
       "      <th>4</th>\n",
       "      <td>2001</td>\n",
       "      <td>4</td>\n",
       "      <td>0</td>\n",
       "      <td>191</td>\n",
       "      <td>123</td>\n",
       "      <td>12</td>\n",
       "    </tr>\n",
       "    <tr>\n",
       "      <th>...</th>\n",
       "      <td>...</td>\n",
       "      <td>...</td>\n",
       "      <td>...</td>\n",
       "      <td>...</td>\n",
       "      <td>...</td>\n",
       "      <td>...</td>\n",
       "    </tr>\n",
       "    <tr>\n",
       "      <th>1013</th>\n",
       "      <td>2010</td>\n",
       "      <td>30</td>\n",
       "      <td>2</td>\n",
       "      <td>650</td>\n",
       "      <td>839</td>\n",
       "      <td>200</td>\n",
       "    </tr>\n",
       "    <tr>\n",
       "      <th>1014</th>\n",
       "      <td>2010</td>\n",
       "      <td>31</td>\n",
       "      <td>2</td>\n",
       "      <td>60</td>\n",
       "      <td>73</td>\n",
       "      <td>24</td>\n",
       "    </tr>\n",
       "    <tr>\n",
       "      <th>1015</th>\n",
       "      <td>2010</td>\n",
       "      <td>32</td>\n",
       "      <td>2</td>\n",
       "      <td>1019</td>\n",
       "      <td>1004</td>\n",
       "      <td>200</td>\n",
       "    </tr>\n",
       "    <tr>\n",
       "      <th>1016</th>\n",
       "      <td>2010</td>\n",
       "      <td>33</td>\n",
       "      <td>2</td>\n",
       "      <td>91</td>\n",
       "      <td>63</td>\n",
       "      <td>19</td>\n",
       "    </tr>\n",
       "    <tr>\n",
       "      <th>1017</th>\n",
       "      <td>2010</td>\n",
       "      <td>34</td>\n",
       "      <td>2</td>\n",
       "      <td>1019</td>\n",
       "      <td>1004</td>\n",
       "      <td>120</td>\n",
       "    </tr>\n",
       "  </tbody>\n",
       "</table>\n",
       "<p>1018 rows × 6 columns</p>\n",
       "</div>"
      ],
      "text/plain": [
       "      Year  State  Gender Group  Number Of Vicitms Between 18-30 Years  \\\n",
       "0     2001      0             0                                      4   \n",
       "1     2001      1             0                                    269   \n",
       "2     2001      2             0                                     10   \n",
       "3     2001      3             0                                     45   \n",
       "4     2001      4             0                                    191   \n",
       "...    ...    ...           ...                                    ...   \n",
       "1013  2010     30             2                                    650   \n",
       "1014  2010     31             2                                     60   \n",
       "1015  2010     32             2                                   1019   \n",
       "1016  2010     33             2                                     91   \n",
       "1017  2010     34             2                                   1019   \n",
       "\n",
       "      Number Of Vicitms Between 30-50 Years  \\\n",
       "0                                         2   \n",
       "1                                       175   \n",
       "2                                         4   \n",
       "3                                        37   \n",
       "4                                       123   \n",
       "...                                     ...   \n",
       "1013                                    839   \n",
       "1014                                     73   \n",
       "1015                                   1004   \n",
       "1016                                     63   \n",
       "1017                                   1004   \n",
       "\n",
       "      Number Of Vicitms Between Above 50 Years  \n",
       "0                                           67  \n",
       "1                                           67  \n",
       "2                                            2  \n",
       "3                                           11  \n",
       "4                                           12  \n",
       "...                                        ...  \n",
       "1013                                       200  \n",
       "1014                                        24  \n",
       "1015                                       200  \n",
       "1016                                        19  \n",
       "1017                                       120  \n",
       "\n",
       "[1018 rows x 6 columns]"
      ]
     },
     "execution_count": 84,
     "metadata": {},
     "output_type": "execute_result"
    }
   ],
   "source": [
    "crime_df"
   ]
  },
  {
   "cell_type": "code",
   "execution_count": 85,
   "metadata": {},
   "outputs": [
    {
     "data": {
      "text/html": [
       "<div>\n",
       "<style scoped>\n",
       "    .dataframe tbody tr th:only-of-type {\n",
       "        vertical-align: middle;\n",
       "    }\n",
       "\n",
       "    .dataframe tbody tr th {\n",
       "        vertical-align: top;\n",
       "    }\n",
       "\n",
       "    .dataframe thead th {\n",
       "        text-align: right;\n",
       "    }\n",
       "</style>\n",
       "<table border=\"1\" class=\"dataframe\">\n",
       "  <thead>\n",
       "    <tr style=\"text-align: right;\">\n",
       "      <th></th>\n",
       "      <th>Year</th>\n",
       "      <th>State</th>\n",
       "      <th>Gender Group</th>\n",
       "    </tr>\n",
       "  </thead>\n",
       "  <tbody>\n",
       "    <tr>\n",
       "      <th>0</th>\n",
       "      <td>2001</td>\n",
       "      <td>0</td>\n",
       "      <td>0</td>\n",
       "    </tr>\n",
       "    <tr>\n",
       "      <th>1</th>\n",
       "      <td>2001</td>\n",
       "      <td>1</td>\n",
       "      <td>0</td>\n",
       "    </tr>\n",
       "    <tr>\n",
       "      <th>2</th>\n",
       "      <td>2001</td>\n",
       "      <td>2</td>\n",
       "      <td>0</td>\n",
       "    </tr>\n",
       "    <tr>\n",
       "      <th>3</th>\n",
       "      <td>2001</td>\n",
       "      <td>3</td>\n",
       "      <td>0</td>\n",
       "    </tr>\n",
       "    <tr>\n",
       "      <th>4</th>\n",
       "      <td>2001</td>\n",
       "      <td>4</td>\n",
       "      <td>0</td>\n",
       "    </tr>\n",
       "    <tr>\n",
       "      <th>...</th>\n",
       "      <td>...</td>\n",
       "      <td>...</td>\n",
       "      <td>...</td>\n",
       "    </tr>\n",
       "    <tr>\n",
       "      <th>1013</th>\n",
       "      <td>2010</td>\n",
       "      <td>30</td>\n",
       "      <td>2</td>\n",
       "    </tr>\n",
       "    <tr>\n",
       "      <th>1014</th>\n",
       "      <td>2010</td>\n",
       "      <td>31</td>\n",
       "      <td>2</td>\n",
       "    </tr>\n",
       "    <tr>\n",
       "      <th>1015</th>\n",
       "      <td>2010</td>\n",
       "      <td>32</td>\n",
       "      <td>2</td>\n",
       "    </tr>\n",
       "    <tr>\n",
       "      <th>1016</th>\n",
       "      <td>2010</td>\n",
       "      <td>33</td>\n",
       "      <td>2</td>\n",
       "    </tr>\n",
       "    <tr>\n",
       "      <th>1017</th>\n",
       "      <td>2010</td>\n",
       "      <td>34</td>\n",
       "      <td>2</td>\n",
       "    </tr>\n",
       "  </tbody>\n",
       "</table>\n",
       "<p>1018 rows × 3 columns</p>\n",
       "</div>"
      ],
      "text/plain": [
       "      Year  State  Gender Group\n",
       "0     2001      0             0\n",
       "1     2001      1             0\n",
       "2     2001      2             0\n",
       "3     2001      3             0\n",
       "4     2001      4             0\n",
       "...    ...    ...           ...\n",
       "1013  2010     30             2\n",
       "1014  2010     31             2\n",
       "1015  2010     32             2\n",
       "1016  2010     33             2\n",
       "1017  2010     34             2\n",
       "\n",
       "[1018 rows x 3 columns]"
      ]
     },
     "execution_count": 85,
     "metadata": {},
     "output_type": "execute_result"
    }
   ],
   "source": [
    "X=crime_df.drop(columns=[\"Number Of Vicitms Between 18-30 Years\",\"Number Of Vicitms Between 30-50 Years\",\"Number Of Vicitms Between Above 50 Years\"])\n",
    "X"
   ]
  },
  {
   "cell_type": "code",
   "execution_count": 86,
   "metadata": {},
   "outputs": [
    {
     "data": {
      "text/html": [
       "<div>\n",
       "<style scoped>\n",
       "    .dataframe tbody tr th:only-of-type {\n",
       "        vertical-align: middle;\n",
       "    }\n",
       "\n",
       "    .dataframe tbody tr th {\n",
       "        vertical-align: top;\n",
       "    }\n",
       "\n",
       "    .dataframe thead th {\n",
       "        text-align: right;\n",
       "    }\n",
       "</style>\n",
       "<table border=\"1\" class=\"dataframe\">\n",
       "  <thead>\n",
       "    <tr style=\"text-align: right;\">\n",
       "      <th></th>\n",
       "      <th>Number Of Vicitms Between 18-30 Years</th>\n",
       "      <th>Number Of Vicitms Between 30-50 Years</th>\n",
       "      <th>Number Of Vicitms Between Above 50 Years</th>\n",
       "    </tr>\n",
       "  </thead>\n",
       "  <tbody>\n",
       "    <tr>\n",
       "      <th>0</th>\n",
       "      <td>4</td>\n",
       "      <td>2</td>\n",
       "      <td>67</td>\n",
       "    </tr>\n",
       "    <tr>\n",
       "      <th>1</th>\n",
       "      <td>269</td>\n",
       "      <td>175</td>\n",
       "      <td>67</td>\n",
       "    </tr>\n",
       "    <tr>\n",
       "      <th>2</th>\n",
       "      <td>10</td>\n",
       "      <td>4</td>\n",
       "      <td>2</td>\n",
       "    </tr>\n",
       "    <tr>\n",
       "      <th>3</th>\n",
       "      <td>45</td>\n",
       "      <td>37</td>\n",
       "      <td>11</td>\n",
       "    </tr>\n",
       "    <tr>\n",
       "      <th>4</th>\n",
       "      <td>191</td>\n",
       "      <td>123</td>\n",
       "      <td>12</td>\n",
       "    </tr>\n",
       "    <tr>\n",
       "      <th>...</th>\n",
       "      <td>...</td>\n",
       "      <td>...</td>\n",
       "      <td>...</td>\n",
       "    </tr>\n",
       "    <tr>\n",
       "      <th>1013</th>\n",
       "      <td>650</td>\n",
       "      <td>839</td>\n",
       "      <td>200</td>\n",
       "    </tr>\n",
       "    <tr>\n",
       "      <th>1014</th>\n",
       "      <td>60</td>\n",
       "      <td>73</td>\n",
       "      <td>24</td>\n",
       "    </tr>\n",
       "    <tr>\n",
       "      <th>1015</th>\n",
       "      <td>1019</td>\n",
       "      <td>1004</td>\n",
       "      <td>200</td>\n",
       "    </tr>\n",
       "    <tr>\n",
       "      <th>1016</th>\n",
       "      <td>91</td>\n",
       "      <td>63</td>\n",
       "      <td>19</td>\n",
       "    </tr>\n",
       "    <tr>\n",
       "      <th>1017</th>\n",
       "      <td>1019</td>\n",
       "      <td>1004</td>\n",
       "      <td>120</td>\n",
       "    </tr>\n",
       "  </tbody>\n",
       "</table>\n",
       "<p>1018 rows × 3 columns</p>\n",
       "</div>"
      ],
      "text/plain": [
       "      Number Of Vicitms Between 18-30 Years  \\\n",
       "0                                         4   \n",
       "1                                       269   \n",
       "2                                        10   \n",
       "3                                        45   \n",
       "4                                       191   \n",
       "...                                     ...   \n",
       "1013                                    650   \n",
       "1014                                     60   \n",
       "1015                                   1019   \n",
       "1016                                     91   \n",
       "1017                                   1019   \n",
       "\n",
       "      Number Of Vicitms Between 30-50 Years  \\\n",
       "0                                         2   \n",
       "1                                       175   \n",
       "2                                         4   \n",
       "3                                        37   \n",
       "4                                       123   \n",
       "...                                     ...   \n",
       "1013                                    839   \n",
       "1014                                     73   \n",
       "1015                                   1004   \n",
       "1016                                     63   \n",
       "1017                                   1004   \n",
       "\n",
       "      Number Of Vicitms Between Above 50 Years  \n",
       "0                                           67  \n",
       "1                                           67  \n",
       "2                                            2  \n",
       "3                                           11  \n",
       "4                                           12  \n",
       "...                                        ...  \n",
       "1013                                       200  \n",
       "1014                                        24  \n",
       "1015                                       200  \n",
       "1016                                        19  \n",
       "1017                                       120  \n",
       "\n",
       "[1018 rows x 3 columns]"
      ]
     },
     "execution_count": 86,
     "metadata": {},
     "output_type": "execute_result"
    }
   ],
   "source": [
    "Y=crime_df.drop(columns=[\"Year\",\"State\",\"Gender Group\"])\n",
    "Y"
   ]
  },
  {
   "cell_type": "code",
   "execution_count": 87,
   "metadata": {},
   "outputs": [],
   "source": [
    "from sklearn.model_selection import train_test_split"
   ]
  },
  {
   "cell_type": "code",
   "execution_count": 88,
   "metadata": {},
   "outputs": [],
   "source": [
    "X_train,X_test,Y_train,Y_test=train_test_split(X,Y,test_size=0.3, random_state=5)"
   ]
  },
  {
   "cell_type": "code",
   "execution_count": 89,
   "metadata": {},
   "outputs": [],
   "source": [
    "from sklearn.linear_model import LinearRegression"
   ]
  },
  {
   "cell_type": "code",
   "execution_count": 90,
   "metadata": {},
   "outputs": [],
   "source": [
    "lin_reg=LinearRegression()"
   ]
  },
  {
   "cell_type": "code",
   "execution_count": 91,
   "metadata": {},
   "outputs": [
    {
     "data": {
      "text/plain": [
       "LinearRegression()"
      ]
     },
     "execution_count": 91,
     "metadata": {},
     "output_type": "execute_result"
    }
   ],
   "source": [
    "lin_reg.fit(X_train,Y_train)   # Training our model"
   ]
  },
  {
   "cell_type": "code",
   "execution_count": 92,
   "metadata": {},
   "outputs": [
    {
     "data": {
      "text/plain": [
       "array([[382.71578778, 387.04155195,  82.59591212],\n",
       "       [260.67385445, 238.47948823,  55.99728694],\n",
       "       [270.90451517, 252.35901472,  55.96139528],\n",
       "       [138.62502145, 109.40623042,  30.66540035],\n",
       "       [148.85857558, 115.11303186,  30.09829574],\n",
       "       [378.62890968, 366.27589931,  81.62139543],\n",
       "       [146.81458011, 106.30188344,  29.71319373],\n",
       "       [268.85695858, 253.60660484,  56.23009384],\n",
       "       [380.6762437 , 365.65698036,  81.39355941],\n",
       "       [384.76401208, 383.90794835,  82.20462596],\n",
       "       [270.90718601, 244.81496082,  55.47104486],\n",
       "       [130.43835619, 104.33785235,  31.08639402],\n",
       "       [380.67535342, 368.17166499,  81.55700955],\n",
       "       [254.53341037, 235.93554699,  56.39475726],\n",
       "       [130.43657563, 109.36722162,  31.4132943 ],\n",
       "       [142.7136801 , 125.14251379,  31.31301676],\n",
       "       [258.62340444, 247.8998034 ,  56.79719846],\n",
       "       [138.61990234, 123.86566707,  31.60523867],\n",
       "       [138.62057005, 121.97965359,  31.48265106],\n",
       "       [380.67023432, 382.63110164,  82.49684786],\n",
       "       [380.67490828, 369.42900731,  81.63873462],\n",
       "       [146.80834815, 123.90467588,  30.85734472],\n",
       "       [374.53335135, 370.02842186,  82.24051762],\n",
       "       [264.76896763, 235.984308  ,  55.45988982],\n",
       "       [380.66912147, 385.77445743,  82.70116054],\n",
       "       [388.85756728, 385.81346623,  81.95326659],\n",
       "       [270.90273461, 257.38838399,  56.28829556],\n",
       "       [386.81446208, 374.48763318,  81.40471444],\n",
       "       [270.90295718, 256.75971283,  56.24743303],\n",
       "       [378.623568  , 381.36400712,  82.60209628],\n",
       "       [144.76635581, 109.43548703,  30.10447989],\n",
       "       [136.57768742, 110.02514938,  30.89323638],\n",
       "       [132.47968083, 120.69305467,  31.96184645],\n",
       "       [148.86080128, 108.82632027,  29.68967038],\n",
       "       [392.95290303, 382.68961484,  81.37500694],\n",
       "       [140.66634608, 125.76143275,  31.54085279],\n",
       "       [382.71801348, 380.75484036,  82.18728677],\n",
       "       [256.57562528, 249.77606468,  57.10675955],\n",
       "       [376.57845968, 375.69621449,  82.42130695],\n",
       "       [384.76378951, 384.53661951,  82.24548849],\n",
       "       [138.62101519, 120.72231128,  31.40092599],\n",
       "       [376.57667912, 380.72558376,  82.74820723],\n",
       "       [258.62563014, 241.61309182,  56.3885731 ],\n",
       "       [376.5820208 , 365.63747595,  81.76750638],\n",
       "       [270.908744  , 240.41426271,  55.18500711],\n",
       "       [266.80940199, 254.85419495,  56.4987924 ],\n",
       "       [382.71690063, 383.89819615,  82.39159944],\n",
       "       [132.4821291 , 113.77767193,  31.51235857],\n",
       "       [386.81290409, 378.88833129,  81.69075219],\n",
       "       [268.86074227, 242.91919514,  55.53543074],\n",
       "       [390.91091069, 368.220426  ,  80.62214211],\n",
       "       [260.67452216, 236.59347475,  55.87469933],\n",
       "       [260.66895791, 252.31025372,  56.89626272],\n",
       "       [256.58118953, 234.05928572,  56.08519617],\n",
       "       [382.71623292, 385.78420963,  82.51418705],\n",
       "       [264.76184539, 256.10178507,  56.76749096],\n",
       "       [148.85590474, 122.65708576,  30.58864616],\n",
       "       [256.58029925, 236.57397035,  56.24864631],\n",
       "       [132.48390966, 108.74830266,  31.18545828],\n",
       "       [264.7669645 , 241.64234842,  55.82765264],\n",
       "       [384.76334437, 385.79396183,  82.32721356],\n",
       "       [382.7171232 , 383.269525  ,  82.35073691],\n",
       "       [258.6229593 , 249.15714572,  56.87892353],\n",
       "       [374.52956767, 380.71583156,  82.93518072],\n",
       "       [270.90384746, 254.2450282 ,  56.08398289],\n",
       "       [270.90607316, 247.95831661,  55.67535753],\n",
       "       [258.62184645, 252.30050151,  57.08323621],\n",
       "       [252.48518606, 239.06915058,  56.78604342],\n",
       "       [382.72001661, 375.09679993,  81.81952395],\n",
       "       [252.48318293, 244.72719101,  57.15380624],\n",
       "       [374.53513191, 364.99905259,  81.91361733],\n",
       "       [382.72246488, 368.18141719,  81.37003606],\n",
       "       [264.76585165, 244.78570422,  56.03196532],\n",
       "       [136.57256831, 124.48458603,  31.83307469],\n",
       "       [258.6207336 , 255.44385731,  57.28754888],\n",
       "       [262.72029819, 240.3752539 ,  55.93290106],\n",
       "       [378.6280194 , 368.79058395,  81.78484557],\n",
       "       [130.43345965, 118.16861784,  31.9853698 ],\n",
       "       [148.85479189, 125.80044155,  30.79295884],\n",
       "       [256.57851869, 241.60333962,  56.57554659],\n",
       "       [260.6727416 , 241.62284402,  56.20159962],\n",
       "       [264.76763221, 239.75633495,  55.70506504],\n",
       "       [380.67579856, 366.91432267,  81.47528448],\n",
       "       [376.57890482, 374.43887217,  82.33958188],\n",
       "       [374.53001281, 379.45848924,  82.85345565],\n",
       "       [144.76323983, 118.23688325,  30.67655539],\n",
       "       [142.71946692, 108.79706367,  30.25059084],\n",
       "       [134.53124368, 108.1293837 ,  30.95762226],\n",
       "       [268.8560683 , 256.12128947,  56.39354398],\n",
       "       [252.48741176, 232.782439  ,  56.37741807],\n",
       "       [148.85835301, 115.74170302,  30.13915827],\n",
       "       [390.90913013, 373.24979526,  80.94904239],\n",
       "       [256.57874126, 240.97466846,  56.53468406],\n",
       "       [382.72291002, 366.92407487,  81.28831099],\n",
       "       [254.53452322, 232.7921912 ,  56.19044458],\n",
       "       [130.43190166, 122.56931595,  32.27140755],\n",
       "       [390.90556901, 383.3085338 ,  81.60284296],\n",
       "       [384.76557007, 379.50725025,  81.91858821],\n",
       "       [136.57969055, 104.36710895,  30.52547356],\n",
       "       [378.62935482, 365.018557  ,  81.53967036],\n",
       "       [140.67035234, 114.44535189,  30.80532715],\n",
       "       [142.7159058 , 118.8558022 ,  30.90439141],\n",
       "       [134.52990826, 111.90141066,  31.20279747],\n",
       "       [388.8633541 , 369.46801611,  80.89084067],\n",
       "       [132.4843548 , 107.49096034,  31.10373321],\n",
       "       [136.57880027, 106.88179359,  30.6889237 ],\n",
       "       [266.81051484, 251.71083916,  56.29447972],\n",
       "       [392.95713186, 370.74486283,  80.59861876],\n",
       "       [254.53007182, 245.36561437,  57.00769529],\n",
       "       [376.58001767, 371.29551638,  82.1352692 ],\n",
       "       [270.90496031, 251.1016724 ,  55.87967021],\n",
       "       [142.71323496, 126.39985611,  31.39474184],\n",
       "       [258.62718813, 237.21239371,  56.10253536],\n",
       "       [252.48051209, 252.27124491,  57.64415667],\n",
       "       [384.7675732 , 373.84920982,  81.55082539],\n",
       "       [384.7631218 , 386.42263299,  82.3680761 ],\n",
       "       [262.71517908, 254.83469055,  56.87273937],\n",
       "       [270.90228947, 258.64572631,  56.37002063],\n",
       "       [374.5344642 , 366.88506607,  82.03620494],\n",
       "       [270.90518288, 250.47300125,  55.83880767],\n",
       "       [146.81413497, 107.55922575,  29.7949188 ],\n",
       "       [264.76318081, 252.32975812,  56.52231574],\n",
       "       [254.53140724, 241.59358742,  56.76252008],\n",
       "       [374.52889996, 382.60184503,  83.05776832],\n",
       "       [388.85734471, 386.44213739,  81.99412912],\n",
       "       [374.53068052, 377.57247576,  82.73086804],\n",
       "       [374.53090309, 376.9438046 ,  82.69000551],\n",
       "       [256.57518014, 251.033407  ,  57.18848462],\n",
       "       [392.9553513 , 375.7742321 ,  80.92551905],\n",
       "       [266.81251797, 246.05279873,  55.9267169 ],\n",
       "       [378.62290029, 383.25002059,  82.72468388],\n",
       "       [266.80851171, 257.36887959,  56.66224254],\n",
       "       [146.80857072, 123.27600472,  30.81648218],\n",
       "       [132.48012597, 119.43571236,  31.88012138],\n",
       "       [260.66962562, 250.42424024,  56.77367511],\n",
       "       [378.62334543, 381.99267828,  82.64295881],\n",
       "       [378.62445828, 378.84932248,  82.43864614],\n",
       "       [388.85979298, 379.52675465,  81.54464123],\n",
       "       [392.95067733, 388.97632643,  81.78363229],\n",
       "       [136.5785777 , 107.51046475,  30.72978624],\n",
       "       [386.80978811, 387.68972751,  82.26282768],\n",
       "       [260.66806763, 254.82493835,  57.05971286],\n",
       "       [388.86268639, 371.35402959,  81.01342827],\n",
       "       [144.76056899, 125.78093715,  31.16690581],\n",
       "       [386.81045582, 385.80371403,  82.14024008],\n",
       "       [258.62251416, 250.41448804,  56.9606486 ],\n",
       "       [388.86157354, 374.49738538,  81.21774095],\n",
       "       [384.76868605, 370.70585403,  81.34651271],\n",
       "       [252.48451835, 240.95516406,  56.90863103],\n",
       "       [392.9531256 , 382.06094368,  81.3341444 ],\n",
       "       [140.66790407, 121.36073464,  31.25481504],\n",
       "       [136.57390373, 120.71255908,  31.58789948],\n",
       "       [374.53290622, 371.28576418,  82.32224269],\n",
       "       [254.53029439, 244.73694321,  56.96683276],\n",
       "       [262.72141104, 237.23189811,  55.72858838],\n",
       "       [388.86135097, 375.12605654,  81.25860349],\n",
       "       [134.53057597, 110.01539718,  31.08020987],\n",
       "       [266.81585652, 236.62273136,  55.31377887],\n",
       "       [390.90512387, 384.56587612,  81.68456803],\n",
       "       [142.71991206, 107.53972135,  30.16886577],\n",
       "       [260.67318674, 240.3655017 ,  56.11987455],\n",
       "       [258.62206902, 251.67183036,  57.04237367],\n",
       "       [142.71479295, 121.999158  ,  31.10870409],\n",
       "       [392.95357074, 380.80360137,  81.25241933],\n",
       "       [374.53201594, 373.80044881,  82.48569283],\n",
       "       [134.53302424, 103.10001444,  30.63072198],\n",
       "       [146.80901586, 122.0186624 ,  30.73475711],\n",
       "       [252.48585377, 237.18313711,  56.66345582],\n",
       "       [374.53490934, 365.62772375,  81.95447987],\n",
       "       [266.81095998, 250.45349684,  56.21275465],\n",
       "       [262.72074333, 239.11791159,  55.85117599],\n",
       "       [266.81140512, 249.19615453,  56.13102958],\n",
       "       [132.48057111, 118.17837004,  31.79839631],\n",
       "       [132.47945826, 121.32172583,  32.00270899],\n",
       "       [136.57345859, 121.96990139,  31.66962455],\n",
       "       [376.58024024, 370.66684522,  82.09440666],\n",
       "       [378.62868711, 366.90457047,  81.66225796],\n",
       "       [264.76540651, 246.04304653,  56.11369039],\n",
       "       [392.95156761, 386.46164179,  81.62018215],\n",
       "       [256.57540271, 250.40473584,  57.14762209],\n",
       "       [252.4856312 , 237.81180826,  56.70431835],\n",
       "       [140.67302318, 106.90129799,  30.31497673],\n",
       "       [374.53579962, 363.11303912,  81.79102973],\n",
       "       [262.72007562, 241.00392506,  55.97376359],\n",
       "       [376.57512113, 385.12628187,  83.03424498],\n",
       "       [130.43301451, 119.42596016,  32.06709487],\n",
       "       [136.58013569, 103.10976664,  30.44374849],\n",
       "       [268.8627454 , 237.26115472,  55.16766792],\n",
       "       [374.53379649, 368.77107954,  82.15879254],\n",
       "       [386.81490722, 373.23029086,  81.32298937],\n",
       "       [262.7209659 , 238.48924043,  55.81031345],\n",
       "       [380.67357286, 373.20103426,  81.88390983],\n",
       "       [252.48140237, 249.75656028,  57.48070653],\n",
       "       [254.52984925, 245.99428553,  57.04855783],\n",
       "       [252.48028952, 252.89991607,  57.6850192 ],\n",
       "       [142.71701865, 115.71244641,  30.70007873],\n",
       "       [384.76824091, 371.96319634,  81.42823778],\n",
       "       [130.43390479, 116.91127552,  31.90364473],\n",
       "       [264.7625131 , 254.21577159,  56.64490335],\n",
       "       [262.71540165, 254.20601939,  56.83187684],\n",
       "       [382.71779091, 381.38351152,  82.2281493 ],\n",
       "       [268.85962942, 246.06255094,  55.73974341],\n",
       "       [382.71912633, 377.61148457,  81.98297409],\n",
       "       [378.62423571, 379.47799364,  82.47950867],\n",
       "       [140.66656865, 125.13276159,  31.49999025],\n",
       "       [146.81302212, 110.70258155,  29.99923148],\n",
       "       [388.8611284 , 375.7547277 ,  81.29946602],\n",
       "       [384.76846348, 371.33452518,  81.38737525],\n",
       "       [378.62646141, 373.19128206,  82.07088332],\n",
       "       [258.62451729, 244.75644761,  56.59288578],\n",
       "       [132.48101625, 116.92102772,  31.71667124],\n",
       "       [132.48524508, 104.97627571,  30.94028307],\n",
       "       [378.62846454, 367.53324163,  81.7031205 ],\n",
       "       [138.61967977, 124.49433823,  31.6461012 ],\n",
       "       [138.62034748, 122.60832475,  31.5235136 ],\n",
       "       [134.52567943, 123.84616267,  31.97918564],\n",
       "       [144.76657838, 108.80681587,  30.06361736],\n",
       "       [140.66723636, 123.24674811,  31.37740265],\n",
       "       [140.66923949, 117.58870769,  31.00963983],\n",
       "       [134.52612457, 122.58882035,  31.89746057],\n",
       "       [262.71473394, 256.09203287,  56.95446444],\n",
       "       [252.48162494, 249.12788912,  57.43984399],\n",
       "       [258.62384958, 246.64246109,  56.71547339],\n",
       "       [378.62201001, 385.76470523,  82.88813403],\n",
       "       [254.52829126, 250.39498364,  57.33459557],\n",
       "       [146.81368983, 108.81656807,  29.87664387],\n",
       "       [390.90601415, 382.05119148,  81.52111789],\n",
       "       [270.90807629, 242.30027619,  55.30759471],\n",
       "       [140.66968463, 116.33136537,  30.92791476],\n",
       "       [252.48629891, 235.92579479,  56.58173075],\n",
       "       [144.7634624 , 117.60821209,  30.63569285],\n",
       "       [380.67468571, 370.05767846,  81.67959715],\n",
       "       [262.71985305, 241.63259622,  56.01462613],\n",
       "       [254.52918154, 247.880299  ,  57.17114543],\n",
       "       [388.85957041, 380.15542581,  81.58550377],\n",
       "       [142.71546066, 120.11314452,  30.98611648],\n",
       "       [262.71562422, 253.57734823,  56.7910143 ],\n",
       "       [268.85762629, 251.72059136,  56.10750623],\n",
       "       [270.90407003, 253.61635704,  56.04312035],\n",
       "       [142.71902178, 110.05440599,  30.33231591],\n",
       "       [266.81541138, 237.88007367,  55.39550394],\n",
       "       [270.90540545, 249.84433009,  55.79794514],\n",
       "       [134.53079854, 109.38672602,  31.03934733],\n",
       "       [256.57495757, 251.66207815,  57.22934716],\n",
       "       [390.90668186, 380.16517801,  81.39853028],\n",
       "       [392.95579644, 374.51688978,  80.84379398],\n",
       "       [386.81535236, 371.97294854,  81.2412643 ],\n",
       "       [384.76913119, 369.44851171,  81.26478764],\n",
       "       [262.71740478, 248.54797897,  56.46411402],\n",
       "       [134.5281277 , 116.93077992,  31.52969775],\n",
       "       [374.53535448, 364.37038143,  81.8727548 ],\n",
       "       [266.81118255, 249.82482569,  56.17189211],\n",
       "       [388.8589027 , 382.04143928,  81.70809138],\n",
       "       [256.57940897, 239.08865498,  56.41209645],\n",
       "       [130.43501764, 113.76791973,  31.69933205],\n",
       "       [264.76740964, 240.38500611,  55.74592757],\n",
       "       [382.72112946, 371.95344414,  81.61521127],\n",
       "       [138.62457631, 110.66357274,  30.74712543],\n",
       "       [260.67073847, 247.28088445,  56.56936243],\n",
       "       [380.66934404, 385.14578627,  82.660298  ],\n",
       "       [376.58068538, 369.4095029 ,  82.01268159],\n",
       "       [132.48279681, 111.89165845,  31.38977096],\n",
       "       [378.62601627, 374.44862437,  82.15260839],\n",
       "       [140.67280061, 107.52996915,  30.35583926],\n",
       "       [382.72023918, 374.46812878,  81.77866141],\n",
       "       [380.6688989 , 386.40312859,  82.74202307],\n",
       "       [148.85946586, 112.59834722,  29.93484559],\n",
       "       [260.6682902 , 254.19626719,  57.01885032],\n",
       "       [254.53185238, 240.3362451 ,  56.68079501],\n",
       "       [378.62245515, 384.50736291,  82.80640895],\n",
       "       [266.81318568, 244.16678526,  55.8041293 ],\n",
       "       [270.90585059, 248.58698777,  55.71622007],\n",
       "       [266.80895685, 256.11153727,  56.58051747],\n",
       "       [252.48207008, 247.8705468 ,  57.35811892],\n",
       "       [270.90829886, 241.67160503,  55.26673218],\n",
       "       [256.57829612, 242.23201078,  56.61640913],\n",
       "       [384.76801834, 372.5918675 ,  81.46910032],\n",
       "       [258.62473986, 244.12777645,  56.55202325],\n",
       "       [138.62435374, 111.2922439 ,  30.78798796],\n",
       "       [384.76579264, 378.87857909,  81.87772567],\n",
       "       [146.81257698, 111.95992386,  30.08095655],\n",
       "       [132.48346452, 110.00564498,  31.26718335],\n",
       "       [376.57934996, 373.18152985,  82.25785681],\n",
       "       [374.5293451 , 381.34450271,  82.97604325],\n",
       "       [130.4323468 , 121.31197363,  32.18968248],\n",
       "       [386.81401694, 375.7449755 ,  81.48643951],\n",
       "       [264.76162282, 256.73045623,  56.80835349],\n",
       "       [140.67391346, 104.38661336,  30.15152658],\n",
       "       [146.81012871, 118.87530661,  30.53044444],\n",
       "       [134.52790513, 117.55945108,  31.57056029],\n",
       "       [270.90674087, 246.07230314,  55.55276993],\n",
       "       [388.86201868, 373.24004306,  81.13601588],\n",
       "       [264.76229053, 254.84444275,  56.68576588],\n",
       "       [390.9093527 , 372.62112411,  80.90817986],\n",
       "       [142.71412524, 123.88517147,  31.23129169],\n",
       "       [130.43746591, 106.85253698,  31.24984416],\n",
       "       [136.57746485, 110.65382054,  30.93409891],\n",
       "       [262.71695964, 249.80532128,  56.54583909],\n",
       "       [256.57451243, 252.91942047,  57.31107223],\n",
       "       [376.58179823, 366.26614711,  81.80836892],\n",
       "       [268.85807143, 250.46324905,  56.02578116],\n",
       "       [262.71918534, 243.5186097 ,  56.13721373],\n",
       "       [390.90734957, 378.27916453,  81.27594268],\n",
       "       [252.48718919, 233.41111015,  56.41828061],\n",
       "       [254.53207495, 239.70757394,  56.63993247],\n",
       "       [374.53468677, 366.25639491,  81.9953424 ]])"
      ]
     },
     "execution_count": 92,
     "metadata": {},
     "output_type": "execute_result"
    }
   ],
   "source": [
    "lin_reg.predict(X_test)"
   ]
  },
  {
   "cell_type": "code",
   "execution_count": 93,
   "metadata": {},
   "outputs": [
    {
     "data": {
      "text/plain": [
       "0.1121879836153582"
      ]
     },
     "execution_count": 93,
     "metadata": {},
     "output_type": "execute_result"
    }
   ],
   "source": [
    "lin_reg.score(X_test,Y_test)"
   ]
  },
  {
   "cell_type": "code",
   "execution_count": 94,
   "metadata": {},
   "outputs": [
    {
     "data": {
      "text/plain": [
       "DecisionTreeRegressor(random_state=0)"
      ]
     },
     "execution_count": 94,
     "metadata": {},
     "output_type": "execute_result"
    }
   ],
   "source": [
    "from sklearn.tree import DecisionTreeRegressor\n",
    "tree_model=DecisionTreeRegressor(random_state=0)\n",
    "tree_model.fit(X_train,Y_train)"
   ]
  },
  {
   "cell_type": "code",
   "execution_count": 95,
   "metadata": {},
   "outputs": [
    {
     "data": {
      "text/plain": [
       "DecisionTreeRegressor(random_state=0)"
      ]
     },
     "execution_count": 95,
     "metadata": {},
     "output_type": "execute_result"
    }
   ],
   "source": [
    "tree_model.fit(X_train,Y_train)"
   ]
  },
  {
   "cell_type": "code",
   "execution_count": 96,
   "metadata": {},
   "outputs": [
    {
     "data": {
      "text/plain": [
       "0.9219614372802418"
      ]
     },
     "execution_count": 96,
     "metadata": {},
     "output_type": "execute_result"
    }
   ],
   "source": [
    "tree_model.score(X_test,Y_test)"
   ]
  },
  {
   "cell_type": "code",
   "execution_count": 97,
   "metadata": {},
   "outputs": [
    {
     "data": {
      "text/plain": [
       "RandomForestRegressor(random_state=0)"
      ]
     },
     "execution_count": 97,
     "metadata": {},
     "output_type": "execute_result"
    }
   ],
   "source": [
    "from sklearn.ensemble import RandomForestRegressor\n",
    "forest_model=RandomForestRegressor(random_state=0)\n",
    "forest_model.fit(X_train,Y_train)"
   ]
  },
  {
   "cell_type": "code",
   "execution_count": 98,
   "metadata": {},
   "outputs": [
    {
     "data": {
      "text/plain": [
       "RandomForestRegressor(random_state=0)"
      ]
     },
     "execution_count": 98,
     "metadata": {},
     "output_type": "execute_result"
    }
   ],
   "source": [
    "forest_model.fit(X_train,Y_train)"
   ]
  },
  {
   "cell_type": "code",
   "execution_count": 99,
   "metadata": {},
   "outputs": [
    {
     "data": {
      "text/plain": [
       "0.9426234165128896"
      ]
     },
     "execution_count": 99,
     "metadata": {},
     "output_type": "execute_result"
    }
   ],
   "source": [
    "forest_model.score(X_test,Y_test)"
   ]
  },
  {
   "cell_type": "code",
   "execution_count": 100,
   "metadata": {},
   "outputs": [],
   "source": [
    "from sklearn.model_selection import cross_val_score"
   ]
  },
  {
   "cell_type": "code",
   "execution_count": 101,
   "metadata": {},
   "outputs": [
    {
     "data": {
      "text/plain": [
       "array([-0.33648425,  0.10160038, -0.02414574, -0.00581967, -0.02455957])"
      ]
     },
     "execution_count": 101,
     "metadata": {},
     "output_type": "execute_result"
    }
   ],
   "source": [
    "cross_val_score(LinearRegression(),X,Y)"
   ]
  },
  {
   "cell_type": "code",
   "execution_count": 102,
   "metadata": {},
   "outputs": [
    {
     "data": {
      "text/html": [
       "<div>\n",
       "<style scoped>\n",
       "    .dataframe tbody tr th:only-of-type {\n",
       "        vertical-align: middle;\n",
       "    }\n",
       "\n",
       "    .dataframe tbody tr th {\n",
       "        vertical-align: top;\n",
       "    }\n",
       "\n",
       "    .dataframe thead th {\n",
       "        text-align: right;\n",
       "    }\n",
       "</style>\n",
       "<table border=\"1\" class=\"dataframe\">\n",
       "  <thead>\n",
       "    <tr style=\"text-align: right;\">\n",
       "      <th></th>\n",
       "      <th>Year</th>\n",
       "      <th>State</th>\n",
       "      <th>Gender Group</th>\n",
       "      <th>Number Of Vicitms Between 18-30 Years</th>\n",
       "      <th>Number Of Vicitms Between 30-50 Years</th>\n",
       "      <th>Number Of Vicitms Between Above 50 Years</th>\n",
       "    </tr>\n",
       "  </thead>\n",
       "  <tbody>\n",
       "    <tr>\n",
       "      <th>0</th>\n",
       "      <td>2001</td>\n",
       "      <td>0</td>\n",
       "      <td>0</td>\n",
       "      <td>4</td>\n",
       "      <td>2</td>\n",
       "      <td>67</td>\n",
       "    </tr>\n",
       "    <tr>\n",
       "      <th>1</th>\n",
       "      <td>2001</td>\n",
       "      <td>1</td>\n",
       "      <td>0</td>\n",
       "      <td>269</td>\n",
       "      <td>175</td>\n",
       "      <td>67</td>\n",
       "    </tr>\n",
       "    <tr>\n",
       "      <th>2</th>\n",
       "      <td>2001</td>\n",
       "      <td>2</td>\n",
       "      <td>0</td>\n",
       "      <td>10</td>\n",
       "      <td>4</td>\n",
       "      <td>2</td>\n",
       "    </tr>\n",
       "    <tr>\n",
       "      <th>3</th>\n",
       "      <td>2001</td>\n",
       "      <td>3</td>\n",
       "      <td>0</td>\n",
       "      <td>45</td>\n",
       "      <td>37</td>\n",
       "      <td>11</td>\n",
       "    </tr>\n",
       "    <tr>\n",
       "      <th>4</th>\n",
       "      <td>2001</td>\n",
       "      <td>4</td>\n",
       "      <td>0</td>\n",
       "      <td>191</td>\n",
       "      <td>123</td>\n",
       "      <td>12</td>\n",
       "    </tr>\n",
       "    <tr>\n",
       "      <th>...</th>\n",
       "      <td>...</td>\n",
       "      <td>...</td>\n",
       "      <td>...</td>\n",
       "      <td>...</td>\n",
       "      <td>...</td>\n",
       "      <td>...</td>\n",
       "    </tr>\n",
       "    <tr>\n",
       "      <th>1013</th>\n",
       "      <td>2010</td>\n",
       "      <td>30</td>\n",
       "      <td>2</td>\n",
       "      <td>650</td>\n",
       "      <td>839</td>\n",
       "      <td>200</td>\n",
       "    </tr>\n",
       "    <tr>\n",
       "      <th>1014</th>\n",
       "      <td>2010</td>\n",
       "      <td>31</td>\n",
       "      <td>2</td>\n",
       "      <td>60</td>\n",
       "      <td>73</td>\n",
       "      <td>24</td>\n",
       "    </tr>\n",
       "    <tr>\n",
       "      <th>1015</th>\n",
       "      <td>2010</td>\n",
       "      <td>32</td>\n",
       "      <td>2</td>\n",
       "      <td>1019</td>\n",
       "      <td>1004</td>\n",
       "      <td>200</td>\n",
       "    </tr>\n",
       "    <tr>\n",
       "      <th>1016</th>\n",
       "      <td>2010</td>\n",
       "      <td>33</td>\n",
       "      <td>2</td>\n",
       "      <td>91</td>\n",
       "      <td>63</td>\n",
       "      <td>19</td>\n",
       "    </tr>\n",
       "    <tr>\n",
       "      <th>1017</th>\n",
       "      <td>2010</td>\n",
       "      <td>34</td>\n",
       "      <td>2</td>\n",
       "      <td>1019</td>\n",
       "      <td>1004</td>\n",
       "      <td>120</td>\n",
       "    </tr>\n",
       "  </tbody>\n",
       "</table>\n",
       "<p>1018 rows × 6 columns</p>\n",
       "</div>"
      ],
      "text/plain": [
       "      Year  State  Gender Group  Number Of Vicitms Between 18-30 Years  \\\n",
       "0     2001      0             0                                      4   \n",
       "1     2001      1             0                                    269   \n",
       "2     2001      2             0                                     10   \n",
       "3     2001      3             0                                     45   \n",
       "4     2001      4             0                                    191   \n",
       "...    ...    ...           ...                                    ...   \n",
       "1013  2010     30             2                                    650   \n",
       "1014  2010     31             2                                     60   \n",
       "1015  2010     32             2                                   1019   \n",
       "1016  2010     33             2                                     91   \n",
       "1017  2010     34             2                                   1019   \n",
       "\n",
       "      Number Of Vicitms Between 30-50 Years  \\\n",
       "0                                         2   \n",
       "1                                       175   \n",
       "2                                         4   \n",
       "3                                        37   \n",
       "4                                       123   \n",
       "...                                     ...   \n",
       "1013                                    839   \n",
       "1014                                     73   \n",
       "1015                                   1004   \n",
       "1016                                     63   \n",
       "1017                                   1004   \n",
       "\n",
       "      Number Of Vicitms Between Above 50 Years  \n",
       "0                                           67  \n",
       "1                                           67  \n",
       "2                                            2  \n",
       "3                                           11  \n",
       "4                                           12  \n",
       "...                                        ...  \n",
       "1013                                       200  \n",
       "1014                                        24  \n",
       "1015                                       200  \n",
       "1016                                        19  \n",
       "1017                                       120  \n",
       "\n",
       "[1018 rows x 6 columns]"
      ]
     },
     "execution_count": 102,
     "metadata": {},
     "output_type": "execute_result"
    }
   ],
   "source": [
    "crime_df"
   ]
  },
  {
   "cell_type": "code",
   "execution_count": 103,
   "metadata": {},
   "outputs": [],
   "source": [
    "state_code={\n",
    "    \"Andaman & Nicobar Islands\":0,\n",
    "    \"Andhra Pradesh\":1,\n",
    "    \"Arunachal Pradesh\":2,\n",
    "    \"Assam\":3,\n",
    "    \"Bihar\":4,\n",
    "    \"Chandigarh\":5,\n",
    "    \"Chattisgrah\":6,\n",
    "    \"Delhi\":7,\n",
    "    \"Goa\":8,\n",
    "    \"Gujarat\":9,\n",
    "    \"Haryana\":10,\n",
    "    \"Himachal Pradesh\":11,\n",
    "    \"Jammu & Kashmir\":12,\n",
    "    \"Jharkhand\":13,\n",
    "    \"Karnataka\":14,\n",
    "    \"Kerala\":15,\n",
    "    \"Lakshadweep\":16,\n",
    "    \"Madhya Pradesh\":17,\n",
    "    \"Maharashtra\":18,\n",
    "    \"Manipur\":19,\n",
    "    \"Meghalaya\":20,\n",
    "    \"Mizoram\":21,\n",
    "    \"Nagaland\":22,\n",
    "    \"Odisha\":23,\n",
    "    \"Puducherry\":24,\n",
    "    \"Punjab\":25,\n",
    "    \"Rajasthan\":26,\n",
    "    \"Sikkim\":27,\n",
    "    \"Tamil Nadu\":28,\n",
    "    \"Tripura\":29,\n",
    "    \"Uttar Pradesh\":30,\n",
    "    \"Uttarakhand\":31,\n",
    "    \"West Bengal\":32,\n",
    "    \"Dadra & Nagar Haveli\":33,\n",
    "    \"Daman & Diu\":34\n",
    "}"
   ]
  },
  {
   "cell_type": "code",
   "execution_count": 104,
   "metadata": {},
   "outputs": [],
   "source": [
    "gender_group_code={\n",
    "    \"Murder - Female Victims\":0,\n",
    "    \"Murder - Male Victims\":1,\n",
    "    \"Murder - Total Victims\":2\n",
    "}"
   ]
  },
  {
   "cell_type": "code",
   "execution_count": 105,
   "metadata": {},
   "outputs": [],
   "source": [
    "def Find_Victims(state, year, gender):\n",
    "    state_encode=state_code.get(state)\n",
    "    gender_encode=gender_group_code.get(gender)\n",
    "    features=[year,state_encode,gender_encode]\n",
    "    input_data=np.array(features)\n",
    "    input_data_reshape=input_data.reshape(1,-1)\n",
    "    prediction_data=lin_reg.predict(input_data_reshape)\n",
    "    print(\"Number of victims( For age group of 18-30 years): \", int(prediction_data[0][0]), \"\\n\")\n",
    "    print(\"Number of victims( For age group of 30-50 years): \", int(prediction_data[0][1]), \"\\n\")\n",
    "    print(\"Number of victims( For age group above 50 years): \", int(prediction_data[0][2]), \"\\n\")"
   ]
  },
  {
   "cell_type": "code",
   "execution_count": 106,
   "metadata": {},
   "outputs": [
    {
     "name": "stdout",
     "output_type": "stream",
     "text": [
      "Number of victims( For age group of 18-30 years):  105 \n",
      "\n",
      "Number of victims( For age group of 30-50 years):  110 \n",
      "\n",
      "Number of victims( For age group above 50 years):  33 \n",
      "\n"
     ]
    }
   ],
   "source": [
    "Find_Victims(\"Sikkim\",2022, \"Murder - Female Victims\")"
   ]
  },
  {
   "cell_type": "code",
   "execution_count": 107,
   "metadata": {},
   "outputs": [
    {
     "name": "stdout",
     "output_type": "stream",
     "text": [
      "Number of victims( For age group of 18-30 years):  262 \n",
      "\n",
      "Number of victims( For age group of 30-50 years):  237 \n",
      "\n",
      "Number of victims( For age group above 50 years):  55 \n",
      "\n"
     ]
    }
   ],
   "source": [
    "Find_Victims(\"Assam\",2005,\"Murder - Male Victims\")"
   ]
  },
  {
   "cell_type": "code",
   "execution_count": 108,
   "metadata": {},
   "outputs": [
    {
     "name": "stdout",
     "output_type": "stream",
     "text": [
      "Number of victims( For age group of 18-30 years):  246 \n",
      "\n",
      "Number of victims( For age group of 30-50 years):  232 \n",
      "\n",
      "Number of victims( For age group above 50 years):  56 \n",
      "\n"
     ]
    }
   ],
   "source": [
    "Find_Victims(\"Assam\",2013,\"Murder - Male Victims\")"
   ]
  },
  {
   "cell_type": "code",
   "execution_count": 109,
   "metadata": {},
   "outputs": [
    {
     "name": "stdout",
     "output_type": "stream",
     "text": [
      "Number of victims( For age group of 18-30 years):  242 \n",
      "\n",
      "Number of victims( For age group of 30-50 years):  230 \n",
      "\n",
      "Number of victims( For age group above 50 years):  57 \n",
      "\n"
     ]
    }
   ],
   "source": [
    "Find_Victims(\"Assam\",2015,\"Murder - Male Victims\")"
   ]
  },
  {
   "cell_type": "code",
   "execution_count": 110,
   "metadata": {},
   "outputs": [
    {
     "name": "stdout",
     "output_type": "stream",
     "text": [
      "Number of victims( For age group of 18-30 years):  258 \n",
      "\n",
      "Number of victims( For age group of 30-50 years):  247 \n",
      "\n",
      "Number of victims( For age group above 50 years):  56 \n",
      "\n"
     ]
    }
   ],
   "source": [
    "Find_Victims(\"Mizoram\",2007,\"Murder - Male Victims\")"
   ]
  },
  {
   "cell_type": "code",
   "execution_count": 111,
   "metadata": {},
   "outputs": [
    {
     "name": "stdout",
     "output_type": "stream",
     "text": [
      "Number of victims( For age group of 18-30 years):  244 \n",
      "\n",
      "Number of victims( For age group of 30-50 years):  242 \n",
      "\n",
      "Number of victims( For age group above 50 years):  57 \n",
      "\n"
     ]
    }
   ],
   "source": [
    "Find_Victims(\"Mizoram\",2014,\"Murder - Male Victims\")"
   ]
  },
  {
   "cell_type": "code",
   "execution_count": 112,
   "metadata": {},
   "outputs": [
    {
     "name": "stdout",
     "output_type": "stream",
     "text": [
      "Number of victims( For age group of 18-30 years):  238 \n",
      "\n",
      "Number of victims( For age group of 30-50 years):  240 \n",
      "\n",
      "Number of victims( For age group above 50 years):  58 \n",
      "\n"
     ]
    }
   ],
   "source": [
    "Find_Victims(\"Mizoram\",2017,\"Murder - Male Victims\")"
   ]
  },
  {
   "cell_type": "code",
   "execution_count": 113,
   "metadata": {},
   "outputs": [
    {
     "name": "stdout",
     "output_type": "stream",
     "text": [
      "Number of victims( For age group of 18-30 years):  260 \n",
      "\n",
      "Number of victims( For age group of 30-50 years):  252 \n",
      "\n",
      "Number of victims( For age group above 50 years):  56 \n",
      "\n"
     ]
    }
   ],
   "source": [
    "Find_Victims(\"Tamil Nadu\",2006,\"Murder - Male Victims\")"
   ]
  },
  {
   "cell_type": "code",
   "execution_count": 114,
   "metadata": {},
   "outputs": [
    {
     "name": "stdout",
     "output_type": "stream",
     "text": [
      "Number of victims( For age group of 18-30 years):  146 \n",
      "\n",
      "Number of victims( For age group of 30-50 years):  106 \n",
      "\n",
      "Number of victims( For age group above 50 years):  29 \n",
      "\n"
     ]
    }
   ],
   "source": [
    "Find_Victims(\"Andaman & Nicobar Islands\",2002,\"Murder - Female Victims\")"
   ]
  },
  {
   "cell_type": "code",
   "execution_count": 115,
   "metadata": {},
   "outputs": [],
   "source": [
    "import pickle\n",
    "with open(\"crime_rate.pickle\", \"wb\") as f:\n",
    "    pickle.dump(lin_reg, f)"
   ]
  },
  {
   "cell_type": "code",
   "execution_count": null,
   "metadata": {},
   "outputs": [],
   "source": []
  }
 ],
 "metadata": {
  "kernelspec": {
   "display_name": "Python 3",
   "language": "python",
   "name": "python3"
  },
  "language_info": {
   "codemirror_mode": {
    "name": "ipython",
    "version": 3
   },
   "file_extension": ".py",
   "mimetype": "text/x-python",
   "name": "python",
   "nbconvert_exporter": "python",
   "pygments_lexer": "ipython3",
   "version": "3.9.5"
  }
 },
 "nbformat": 4,
 "nbformat_minor": 4
}
